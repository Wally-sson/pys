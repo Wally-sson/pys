{
 "cells": [
  {
   "cell_type": "markdown",
   "id": "d22f35df",
   "metadata": {},
   "source": [
    "# Atratores Caóticos"
   ]
  },
  {
   "cell_type": "markdown",
   "id": "2785b2d8",
   "metadata": {},
   "source": [
    "* PET - Física\n",
    "* Petiano: Wallysson Pereira da Silva\n",
    "* Data: 04/07/2025"
   ]
  },
  {
   "cell_type": "markdown",
   "id": "f41623b8",
   "metadata": {},
   "source": [
    "$\\quad$ O presente `Notebook` tem como objetivo introduzir a teoria dos atratores caóticos, junto com a ilustração, através de simulação 3D, de alguns atratores relevantes na literatura. Dentro dessa teoria, abordaremos o caso dos atratores estranhos, que serão definidamente definimos ao longo as próximas linhas. Com isso em mente, temos os seguintes tópicos:\n",
    "- Teoria Geral dos Atratores Caótico \n",
    "- Atrator de Lorenz\n",
    "- Atrator de Rössler\n",
    "- Atrator de Chua\n",
    "- Mapa de Hénon\n",
    "- Conclusão"
   ]
  },
  {
   "cell_type": "markdown",
   "id": "b7fa134f",
   "metadata": {},
   "source": [
    "## Pré-requisitos"
   ]
  },
  {
   "cell_type": "markdown",
   "id": "a02c6f4b",
   "metadata": {},
   "source": [
    "$\\quad$ Toda a teoria necessária sobres os atratores caóticos será introduzida neste `Notebook`, de modo que não será necessário conhecimento breve no tópico. Contudo, a principal ferramenta utilizada nesse trabalho será a intregação numérica através de Runge-Kutta de Quarta Ordem. Logo, é recomendado que o leitor tenha uma noção mínima da existência desse método e de como utilizá-lo."
   ]
  },
  {
   "cell_type": "markdown",
   "id": "066f01e6",
   "metadata": {},
   "source": [
    "## Importando bibliotecas"
   ]
  },
  {
   "cell_type": "code",
   "execution_count": null,
   "id": "72b097be",
   "metadata": {},
   "outputs": [],
   "source": [
    "import numpy as np\n",
    "import matplotlib.pyplot as plt\n",
    "from scipy.integrate import odeint\n",
    "import matplotlib.animation as animation\n",
    "from matplotlib.colors import hsv_to_rgb"
   ]
  },
  {
   "cell_type": "markdown",
   "id": "d8cf714a",
   "metadata": {},
   "source": [
    "## Informações sobre as bibliotecas"
   ]
  },
  {
   "cell_type": "code",
   "execution_count": null,
   "id": "3ed0b6a8",
   "metadata": {},
   "outputs": [],
   "source": [
    "%load_ext version_information\n",
    "%version_information Matplotlib, Numpy"
   ]
  },
  {
   "cell_type": "markdown",
   "id": "ecdabc60",
   "metadata": {},
   "source": [
    "## Teoria Geral"
   ]
  },
  {
   "cell_type": "markdown",
   "id": "a392eb16",
   "metadata": {},
   "source": [
    "$\\quad$ Antes da definição de um atrator caótico, vale uma pequena revisão sobre sistemas dinâmicos. Um sistema dinâmico, fisicamente falando, é composto por um sistema de EDO que descrevem o comportamento das $n$ variáveis que definem o estado de tal sistema. Tais variáveis não precisam ser necessariamente grandezas espaciais. Nesse contexto, pode-se atribuir o valor de cada variável à um eixo e definir-se o espaço de fase. Em tal espaço, dado uma condição inicial (um ponto de partida), as EDOs determinam o comportamente do sistema dado um pequeno intervalo de tempo $dt$. Para obter o comportamento do sistema durante um longo período de tempo, é necessário integrar as equações, onde normalmente se utiliza de integração numérica para tal. \n",
    "\n",
    "$\\quad$ Dentro desse espaço, pode acontecer de determinados pontos terem certas propriedades especiais, sendo eles os denominados atratores do espaço de fase. Um atrator é definido de tal forma que, qualquer trajetória que entre a um determinado intervalo de distância até o atrator, não consiga mais escapar da sua influência. Tal trajetória pode ser periódica ou caótica. Caso esse segundo caso ocorra, teremos um atrator caótico no nosso espaço de fase desse sistema caótico.\n",
    "\n",
    "$\\quad$ Mas um atrator caótico ainda não é necessariamente um atrator estranho (*strange attractor*). Um atrator estranho tem uma propriedade adicional além da sensibilidade às condições inicias: as trajetórias nas fronteiras de um atrator se mantém confinadas nessa região, mas elas se separam de seus de forma exponencialmente rápida (pelo menos inicialemente).  \n",
    "\n",
    "$\\quad$ Boa parte da não tão recente alavancada nos estudos de sistemas caóticos, ocorrida por volta da metade do século XX, foi devido à evolução tecnológica dos computadores. Muitas das propriedades comportamentais dos sistemas dinâmicos caóticos só podem ser estudados por meio de simulações físicas, ferramenta essa que era bem limitada nos primeiros computadores, tanto na questão do poder de processamento (que era mediocre para os propositovs desejados) quanto na confiabilidade dos resultados, que muitas vezes era bem questionável.  \n",
    "\n",
    "$\\quad$ Assim, o que faremos no presente trabalho é apresentar alguns dos atratores estronhos mais conhecidos e importantes da literatura, evoluindo trajetórias (com condições iniciais próximas) no espaço de fase e observar seu comportamento. Para tal, utilizaremos a biblioteca de integração numérica `scipy.integrate`, que nos fornece a função `odeint`, cuja funcionalidade é evoluir temporalmente determinada condição iniocial dado as EDOs."
   ]
  },
  {
   "cell_type": "markdown",
   "id": "099b9c13",
   "metadata": {},
   "source": [
    "## Atrator de Lorenz"
   ]
  },
  {
   "cell_type": "markdown",
   "id": "823c3aa6",
   "metadata": {},
   "source": [
    "$\\quad$ Obviamente teríamos de começar pelo mais famoso atrator caótico da literatura: o Atrator de Lorenz. Ele é especialmente famoso por ter sido o primeiro atrator descoberto. Ao analisar certo sistema de EDOs que descreviam a convecção atmosférica, matemático e climatologista Edward Lorenz percebeu certa sensbilidade em relação às condições iniciais do sistema. Isto é, trajetória que iniciavam próximas divergiam uma da outra de maneira muito rápida, de modo que se tornava invivável fazer predições a longo prazo nesse sistema. Nesse contexto que surge a expressão do efeito bortoleta, como uma anedota ao fato de que \"o bater de asas de uma borboleta no Brasil pode ocasionar um tornado no Texas\".\n",
    "\n",
    "$\\quad$ O sistema de EDOs analizado por Lorenz foi o seguinte:\n"
   ]
  },
  {
   "cell_type": "markdown",
   "id": "2969a42f",
   "metadata": {},
   "source": [
    "$$\n",
    "\\frac{dx}{dt} = \\sigma (-x+y), \\quad \\frac{dy}{dt} = -xz+\\rho x - y \\quad \\text{e} \\quad \\frac{dz}{dt} = xy-\\beta z.\n",
    "$$"
   ]
  },
  {
   "cell_type": "markdown",
   "id": "82a5f8b5",
   "metadata": {},
   "source": [
    "Onde podemos definir a seguinte função, já num formato conveninente para usar na função `odeint`."
   ]
  },
  {
   "cell_type": "code",
   "execution_count": null,
   "id": "332054ce",
   "metadata": {},
   "outputs": [],
   "source": [
    "def lorenz(r, t, sigma, rho, beta):\n",
    "    x, y, z = r[0], r[1], r[2]  \n",
    "    dx = sigma * (y - x)\n",
    "    dy = x * (rho - z) - y\n",
    "    dz = x * y - beta * z\n",
    "    return [dx, dy, dz]"
   ]
  },
  {
   "cell_type": "markdown",
   "id": "12f85834",
   "metadata": {},
   "source": [
    "$\\quad$ Como um meio de ilustrar o sistema de EDOs, iremos evoluir a condição inicial **(1,1,1)** no espaço de fase dessas EDOs, exibindo o resultando num plot 3D. Definindo determinados valores para as constantes que tornam o sistema caótico (já conhecidos na literatura) e desenvolvendo o código do plot, temos  "
   ]
  },
  {
   "cell_type": "code",
   "execution_count": null,
   "id": "4965599b",
   "metadata": {},
   "outputs": [],
   "source": [
    "# Parâmetros do sistema.\n",
    "sigma = 10\n",
    "rho = 28\n",
    "beta = 8/3\n",
    "\n",
    "# Condição inicial.\n",
    "r0 = [1,1,1]\n",
    "\n",
    "# Vetor temporal.\n",
    "tempos = np.linspace(0, 30, 3000)\n",
    "\n",
    "#Evolução da trajetória.\n",
    "sol = odeint(lorenz, r0, tempos, args = (sigma,rho, beta))\n",
    "\n",
    "# Plotagem.\n",
    "fig = plt.figure(figsize=(10, 7))\n",
    "ax = fig.add_subplot(111, projection='3d')\n",
    "ax.plot(sol[:,0], sol[:,1], sol[:,2], color=\"turquoise\")\n",
    "ax.set_title(\"Atrator de Lorenz\")\n",
    "plt.show()"
   ]
  },
  {
   "cell_type": "markdown",
   "id": "bee61026",
   "metadata": {},
   "source": [
    "$\\quad$ Uma das formas de visualizar a dinâmica desse sistema é evoluí-lo e fazer o plot da projeção em alguma dos planos (x, y ou z). É inclusive em um dessas projeções que temos o famoso formato de asas de borboleta do sistema de Lorenz. Assim, iremos fazer "
   ]
  },
  {
   "cell_type": "code",
   "execution_count": null,
   "id": "cb697f0b",
   "metadata": {},
   "outputs": [],
   "source": [
    "fig, axes = plt.subplots(1, 3, figsize=(25, 6), constrained_layout=True)\n",
    "\n",
    "# Gráfico x vs y\n",
    "axes[0].plot(sol[:,0], sol[:,1], color='tab:blue', linewidth=1)\n",
    "axes[0].set_xlabel(\"x\", fontsize=12)\n",
    "axes[0].set_ylabel(\"y\", fontsize=12)\n",
    "axes[0].set_title(\"Espaço de fase: x vs y\", fontsize=14)\n",
    "axes[0].grid(True, linestyle='--', alpha=0.5)\n",
    "\n",
    "# Gráfico y vs z\n",
    "axes[1].plot(sol[:,1], sol[:,2], color='tab:orange', linewidth=1)\n",
    "axes[1].set_xlabel(\"y\", fontsize=12)\n",
    "axes[1].set_ylabel(\"z\", fontsize=12)\n",
    "axes[1].set_title(\"Espaço de fase: y vs z\", fontsize=14)\n",
    "axes[1].grid(True, linestyle='--', alpha=0.5)\n",
    "\n",
    "# Gráfico x vs z\n",
    "axes[2].plot(sol[:,0], sol[:,2], color='tab:green', linewidth=1)\n",
    "axes[2].set_xlabel(\"x\", fontsize=12)\n",
    "axes[2].set_ylabel(\"z\", fontsize=12)\n",
    "axes[2].set_title(\"Espaço de fase: x vs z\", fontsize=14)\n",
    "axes[2].grid(True, linestyle='--', alpha=0.5)\n",
    "\n",
    "# Título geral da figura (opcional)\n",
    "fig.suptitle(\"Projeções do Atrator de Lorenz\", fontsize=18)"
   ]
  },
  {
   "cell_type": "markdown",
   "id": "0c0fa9a2",
   "metadata": {},
   "source": [
    "$\\quad$ Contudo, a melhor forma de se entender o comportamento das variáveis no espaço de fase é visualizando a sua trajetória através do tempo, onde a animação é o recurso ideal para tal. Assim, faremos um plot da evolução total de uma dada trajetória com condição inicial qualquer, apenas para ter uma idela da \"cara\" da trajetória que o atrator vai criar; em seguida escolhemos um conjunto de pontos com pequena diferença entre as condiçõoes inicais, basicamente pontos bem próximos; para gerar a animação, evoluiremos os tais pontos de pouco em pouco, plotando só o ponto em cada estágio (e não a trajetória toda). Assim, desenvolvemos o código:"
   ]
  },
  {
   "cell_type": "code",
   "execution_count": null,
   "id": "1dbe8f4a",
   "metadata": {},
   "outputs": [],
   "source": [
    "# Valores de tempos \n",
    "tempos = np.linspace(0, 30, 1000) # Evoluir desde t=0 até t=25, com 1500 pontos nesse intervalo.\n",
    "\n",
    "# Condições Iniciais\n",
    "epsilon = 10e-4 # Diferença entre cada coordenadada para o vetor da condição inicial\n",
    "r_inicial = np.array([0,0,0], float)\n",
    "N = 5\n",
    "r_iniciais = r_inicial + epsilon * np.arange(N+1).reshape(-1,1)\n",
    "\n",
    "# Armazenar as soluções \n",
    "solucoes = []\n",
    "for r0 in r_iniciais:\n",
    "    sol = odeint(lorenz, r0, tempos, args = (sigma, rho, beta))\n",
    "    solucoes.append(sol)\n",
    "\n",
    "\n",
    "# Dimensões do plot\n",
    "fig, ax = plt.subplots(figsize=(8,8))\n",
    "ax = fig.add_subplot(111, projection='3d')\n",
    "\n",
    "\n",
    "# Trajetórias fixas\n",
    "linhas = []\n",
    "for sol in solucoes:\n",
    "    linha, = ax.plot(sol[:,0], sol[:,1], sol[:,2], lw=0.8, alpha=0.6)\n",
    "    linhas.append(linha)\n",
    "\n",
    "# Pontos móveis (um por trajetória)\n",
    "pontos = []\n",
    "for _ in solucoes:\n",
    "    ponto, = ax.plot([], [], [], 'ko', markersize=4)  # 'ko' = marcador preto\n",
    "    pontos.append(ponto)\n",
    "\n",
    "# Função de atualização da animação\n",
    "def atualizar(frame_idx):\n",
    "    ax.set_title(f'Atrator de Lorenz - {frame_idx/len(tempos)*100:.1f}%')\n",
    "    ax.view_init(elev=30, azim=(frame_idx * 0.5) % 360)\n",
    "\n",
    "    for i, sol in enumerate(solucoes):\n",
    "        x, y, z = sol[frame_idx]\n",
    "        pontos[i].set_data([x], [y])              # X e Y\n",
    "        pontos[i].set_3d_properties([z])          # Z\n",
    "    return pontos\n",
    "\n",
    "# Criar a animação\n",
    "ani = animation.FuncAnimation(fig, atualizar, frames=len(tempos), interval=60, blit=False)\n",
    "plt.close(fig)\n",
    "# ani.save('Lorenz.gif', writer='pillow')"
   ]
  },
  {
   "cell_type": "markdown",
   "id": "1aa0af99",
   "metadata": {},
   "source": [
    "## Atrator de Rössler"
   ]
  },
  {
   "cell_type": "markdown",
   "id": "07f3bb06",
   "metadata": {},
   "source": [
    "$\\quad$ Inicialmente estudado por Otto Rössler nos anos 1970, o Atrator de Rössler surge no contexto de um sistema de 3 EDOs, no chamado sistema de Rössler. O atrator presente nesse espaço de fase tem certas similaridades com o atrator de lorenz, mas é consideravelmente mais simple do que o mesmo. Por essa simplicidade, algumas de suas propriedades, como pontos fixos, podem ser estudados por meio de ferramentadas da própria algebra linear, fato que não será aqui abordado. Assim como no caso anteior do atrator de lorenz, simularemos a trajetória de condiçoes iniciais próximas no espaço de fase do sistema de Rössler.   "
   ]
  },
  {
   "cell_type": "markdown",
   "id": "d44c2ee6",
   "metadata": {},
   "source": [
    "$$\n",
    "\\frac{dx}{dt} = -(y+z), \\quad \\frac{dy}{dt} =x+ay\\quad \\text{e} \\quad \\frac{dz}{dt} = b+z(x-c).\n",
    "$$"
   ]
  },
  {
   "cell_type": "code",
   "execution_count": null,
   "id": "60e93b41",
   "metadata": {},
   "outputs": [],
   "source": [
    "def Rossler(r, t, a, b, c):\n",
    "    x, y, z = r[0], r[1], r[2]  \n",
    "    dx = -(y+z)\n",
    "    dy = x+a*y\n",
    "    dz = b+z*(x-c)\n",
    "    return [dx, dy, dz]"
   ]
  },
  {
   "cell_type": "markdown",
   "id": "cff72adb",
   "metadata": {},
   "source": [
    "$\\quad$ "
   ]
  },
  {
   "cell_type": "markdown",
   "id": "943d5641",
   "metadata": {},
   "source": [
    "Novamente realizando a evolução de apenas uma condição inicial no espaço de fase para nos dar uma ideia geral de como o atrator afeta as trajetórias, temos"
   ]
  },
  {
   "cell_type": "code",
   "execution_count": null,
   "id": "aebb7503",
   "metadata": {},
   "outputs": [],
   "source": [
    "# Parâmetros do sistema\n",
    "a, b, c = 0.2, 0.2, 5.7\n",
    "\n",
    "# Condição inicial\n",
    "r0 = [1,1,1]\n",
    "\n",
    "# Vetor temporal\n",
    "tempos = np.linspace(0, 50, 2000)\n",
    "\n",
    "# Evolução temporal.\n",
    "sol = odeint(Rossler, r0, tempos, args = (a,b,c))\n",
    "\n",
    "# Plotagem\n",
    "fig = plt.figure(figsize=(10, 7))\n",
    "ax = fig.add_subplot(111, projection='3d')\n",
    "ax.plot(sol[:,0], sol[:,1], sol[:,2], color=\"turquoise\")\n",
    "ax.set_title(\"Atrator de Rössler\")\n",
    "plt.show()"
   ]
  },
  {
   "cell_type": "markdown",
   "id": "7a83818a",
   "metadata": {},
   "source": [
    "Agora representando as projeções em cada eixo:"
   ]
  },
  {
   "cell_type": "code",
   "execution_count": null,
   "id": "14fc739b",
   "metadata": {},
   "outputs": [],
   "source": [
    "fig, axes = plt.subplots(1, 3, figsize=(25, 6), constrained_layout=True)\n",
    "\n",
    "# Projeção x vs y\n",
    "axes[0].plot(sol[:,0], sol[:,1], color='tab:blue', linewidth=1)\n",
    "axes[0].set_xlabel(\"x\", fontsize=12)\n",
    "axes[0].set_ylabel(\"y\", fontsize=12)\n",
    "axes[0].set_title(\"Espaço de fase: x vs y\", fontsize=14)\n",
    "axes[0].grid(True, linestyle='--', alpha=0.5)\n",
    "\n",
    "# Projeção y vs z\n",
    "axes[1].plot(sol[:,1], sol[:,2], color='tab:orange', linewidth=1)\n",
    "axes[1].set_xlabel(\"y\", fontsize=12)\n",
    "axes[1].set_ylabel(\"z\", fontsize=12)\n",
    "axes[1].set_title(\"Espaço de fase: y vs z\", fontsize=14)\n",
    "axes[1].grid(True, linestyle='--', alpha=0.5)\n",
    "\n",
    "# Projeção x vs z\n",
    "axes[2].plot(sol[:,0], sol[:,2], color='tab:green', linewidth=1)\n",
    "axes[2].set_xlabel(\"x\", fontsize=12)\n",
    "axes[2].set_ylabel(\"z\", fontsize=12)\n",
    "axes[2].set_title(\"Espaço de fase: x vs z\", fontsize=14)\n",
    "axes[2].grid(True, linestyle='--', alpha=0.5)\n",
    "\n",
    "# Título geral da figura (opcional)\n",
    "fig.suptitle(\"Projeções do Atrator de Rössler\", fontsize=18)"
   ]
  },
  {
   "cell_type": "markdown",
   "id": "9adb4899",
   "metadata": {},
   "source": [
    "Por fim uma animação da evolução de diversas condições iniciais no espaço de fase desse atrator"
   ]
  },
  {
   "cell_type": "code",
   "execution_count": null,
   "id": "011f8d27",
   "metadata": {},
   "outputs": [],
   "source": [
    "# Valores de tempos \n",
    "tempos = np.linspace(0, 40, 1000) # Evoluir desde t=0 até t=25, com 1500 pontos nesse intervalo.\n",
    "\n",
    "# Condições Iniciais\n",
    "epsilon = 10e-4 # Diferença entre cada coordenadada para o vetor da condição inicial\n",
    "r_inicial = np.array([1,1,1], float)\n",
    "N = 5\n",
    "r_iniciais = r_inicial + epsilon * np.arange(N+1).reshape(-1,1)\n",
    "\n",
    "# Armazenar as soluções \n",
    "solucoes = []\n",
    "for r0 in r_iniciais:\n",
    "    sol = odeint(Rossler, r0, tempos, args = (a, b, c))\n",
    "    solucoes.append(sol)\n",
    "\n",
    "# Dimensões do plot\n",
    "fig, ax = plt.subplots(figsize=(8,8))\n",
    "ax = fig.add_subplot(111, projection='3d')\n",
    "\n",
    "# Trajetórias fixas\n",
    "linhas = []\n",
    "for sol in solucoes:\n",
    "    linha, = ax.plot(sol[:,0], sol[:,1], sol[:,2], lw=0.8, alpha=0.6)\n",
    "    linhas.append(linha)\n",
    "\n",
    "# Pontos móveis (um por trajetória)\n",
    "pontos = []\n",
    "for _ in solucoes:\n",
    "    ponto, = ax.plot([], [], [], 'ko', markersize=4)  # 'ko' = marcador preto\n",
    "    pontos.append(ponto)\n",
    "\n",
    "# Função de atualização da animação\n",
    "def atualizar(frame_idx):\n",
    "    ax.set_title(f'Atrator de Rössler - {frame_idx/len(tempos)*100:.1f}%')\n",
    "    ax.view_init(elev=30, azim=(frame_idx * 0.5) % 360)\n",
    "\n",
    "    for i, sol in enumerate(solucoes):\n",
    "        x, y, z = sol[frame_idx]\n",
    "        pontos[i].set_data([x], [y])              # X e Y\n",
    "        pontos[i].set_3d_properties([z])          # Z\n",
    "    return pontos\n",
    "\n",
    "# Criar a animação\n",
    "ani = animation.FuncAnimation(fig, atualizar, frames=len(tempos), interval=60, blit=False)\n",
    "plt.close(fig)\n",
    "# ani.save('Rossler.gif', writer='pillow')\n"
   ]
  },
  {
   "cell_type": "markdown",
   "id": "465f0139",
   "metadata": {},
   "source": [
    "## Multiscroll Attractor "
   ]
  },
  {
   "cell_type": "markdown",
   "id": "5ec77e7a",
   "metadata": {},
   "source": [
    "$\\quad$ Também conhecido como o Atrator de Chua, o Double-Scroll Attractor tem sua origem num circuito eletrônico caótico com um resistor não linear simples, o denominado circuito de Chua. Tal circuito é um sistema decrito por 3 EDOs, sendo elas:"
   ]
  },
  {
   "cell_type": "markdown",
   "id": "aeba8e17",
   "metadata": {},
   "source": [
    "$$\n",
    "\\frac{dx}{dt} = a(y-x), \\quad \\frac{dy}{dt} = (c-a)x - xz + cy \\quad \\text{e} \\quad \\frac{dz}{dt} = xy - bz.\n",
    "$$"
   ]
  },
  {
   "cell_type": "code",
   "execution_count": null,
   "id": "ac671c4e",
   "metadata": {},
   "outputs": [],
   "source": [
    "def Chua(r, t, a, b, c):\n",
    "    x, y, z = r[0], r[1], r[2]  \n",
    "    dx = a*(y-x)\n",
    "    dy = (c-a)*x - x*z + c*y\n",
    "    dz = x*y - b*z\n",
    "    return [dx, dy, dz]"
   ]
  },
  {
   "cell_type": "markdown",
   "id": "81d2cff1",
   "metadata": {},
   "source": [
    "$\\quad$ Como já é de costume, vamos evoluir uma trajetória no espaço de fase e observar o comportamento do atrator."
   ]
  },
  {
   "cell_type": "code",
   "execution_count": null,
   "id": "b659fd72",
   "metadata": {},
   "outputs": [],
   "source": [
    "# Parâmetros do sistema\n",
    "a, b, c = 40, 3, 28\n",
    "\n",
    "# Condição inicial\n",
    "r0 = [1,1,1]\n",
    "\n",
    "# Vetor temporal\n",
    "tempos = np.linspace(0, 20, 2000)\n",
    "\n",
    "# Evolução temporal.\n",
    "sol = odeint(Chua, r0, tempos, args = (a,b,c))\n",
    "\n",
    "# Plotagem\n",
    "fig = plt.figure(figsize=(10, 7))\n",
    "ax = fig.add_subplot(111, projection='3d')\n",
    "ax.plot(sol[:,0], sol[:,1], sol[:,2], color=\"turquoise\")\n",
    "ax.set_title(\"Atrator de Chua\")\n",
    "plt.show()"
   ]
  },
  {
   "cell_type": "markdown",
   "id": "bc4283a8",
   "metadata": {},
   "source": [
    "$\\quad$ Observando esse movimento nas projeções, temos a seguinte figura:"
   ]
  },
  {
   "cell_type": "code",
   "execution_count": null,
   "id": "f4ca7406",
   "metadata": {},
   "outputs": [],
   "source": [
    "fig, axes = plt.subplots(1, 3, figsize=(25, 6), constrained_layout=True)\n",
    "\n",
    "# Projeção x vs y\n",
    "axes[0].plot(sol[:,0], sol[:,1], color='tab:blue', linewidth=1)\n",
    "axes[0].set_xlabel(\"x\", fontsize=12)\n",
    "axes[0].set_ylabel(\"y\", fontsize=12)\n",
    "axes[0].set_title(\"Espaço de fase: x vs y\", fontsize=14)\n",
    "axes[0].grid(True, linestyle='--', alpha=0.5)\n",
    "\n",
    "# Projeção y vs z\n",
    "axes[1].plot(sol[:,1], sol[:,2], color='tab:orange', linewidth=1)\n",
    "axes[1].set_xlabel(\"y\", fontsize=12)\n",
    "axes[1].set_ylabel(\"z\", fontsize=12)\n",
    "axes[1].set_title(\"Espaço de fase: y vs z\", fontsize=14)\n",
    "axes[1].grid(True, linestyle='--', alpha=0.5)\n",
    "\n",
    "# Projeção x vs z\n",
    "axes[2].plot(sol[:,0], sol[:,2], color='tab:green', linewidth=1)\n",
    "axes[2].set_xlabel(\"x\", fontsize=12)\n",
    "axes[2].set_ylabel(\"z\", fontsize=12)\n",
    "axes[2].set_title(\"Espaço de fase: x vs z\", fontsize=14)\n",
    "axes[2].grid(True, linestyle='--', alpha=0.5)\n",
    "\n",
    "# Título geral\n",
    "fig.suptitle(\"Projeções do Atrator de Chua\", fontsize=18)"
   ]
  },
  {
   "cell_type": "markdown",
   "id": "3222623f",
   "metadata": {},
   "source": [
    "Animação"
   ]
  },
  {
   "cell_type": "code",
   "execution_count": null,
   "id": "60139a7c",
   "metadata": {},
   "outputs": [],
   "source": [
    "# Valores de tempos \n",
    "tempos = np.linspace(0, 30, 1000) # Evoluir desde t=0 até t=25, com 1500 pontos nesse intervalo.\n",
    "\n",
    "# Condições Iniciais\n",
    "epsilon = 10e-4 # Diferença entre cada coordenadada para o vetor da condição inicial\n",
    "r_inicial = np.array([0,0,0], float)\n",
    "N = 5\n",
    "r_iniciais = r_inicial + epsilon * np.arange(N+1).reshape(-1,1)\n",
    "\n",
    "# Armazenar as soluções \n",
    "solucoes = []\n",
    "for r0 in r_iniciais:\n",
    "    sol = odeint(Chua, r0, tempos, args = (a, b, c))\n",
    "    solucoes.append(sol)\n",
    "\n",
    "# Dimensões do plot\n",
    "fig, ax = plt.subplots(figsize=(8,8))\n",
    "ax = fig.add_subplot(111, projection='3d')\n",
    "\n",
    "# Trajetórias fixas\n",
    "linhas = []\n",
    "for sol in solucoes:\n",
    "    linha, = ax.plot(sol[:,0], sol[:,1], sol[:,2], lw=0.8, alpha=0.6)\n",
    "    linhas.append(linha)\n",
    "\n",
    "# Pontos móveis (um por trajetória)\n",
    "pontos = []\n",
    "for _ in solucoes:\n",
    "    ponto, = ax.plot([], [], [], 'ko', markersize=4)  # 'ko' = marcador preto\n",
    "    pontos.append(ponto)\n",
    "\n",
    "# Função de atualização da animação\n",
    "def atualizar(frame_idx):\n",
    "    ax.set_title(f'Atrator de Chua - {frame_idx/len(tempos)*100:.1f}%')\n",
    "    ax.view_init(elev=30, azim=(frame_idx * 0.5) % 360)\n",
    "\n",
    "    for i, sol in enumerate(solucoes):\n",
    "        x, y, z = sol[frame_idx]\n",
    "        pontos[i].set_data([x], [y])              # X e Y\n",
    "        pontos[i].set_3d_properties([z])          # Z\n",
    "    return pontos\n",
    "\n",
    "# Criar a animação\n",
    "ani = animation.FuncAnimation(fig, atualizar, frames=len(tempos), interval=60, blit=False)\n",
    "plt.close(fig)\n",
    "# ani.save('Chua.gif', writer='pillow')\n"
   ]
  },
  {
   "cell_type": "markdown",
   "id": "8552de04",
   "metadata": {},
   "source": [
    "## Hénon Map"
   ]
  },
  {
   "cell_type": "markdown",
   "id": "48ed382f",
   "metadata": {},
   "source": [
    "$\\quad$ Também exibindo um comportamento caótico, o mapa de Hénon é um sistema dinâmico com tempo discreto. As equações que o descrevem são as seguintes:"
   ]
  },
  {
   "cell_type": "markdown",
   "id": "90330096",
   "metadata": {},
   "source": [
    "$$ \n",
    "x_{n+1} = 1 - ax_n^2 + y_n \\ \\text{ e } \\ y_{n+1} = bx_n.\n",
    "$$"
   ]
  },
  {
   "cell_type": "code",
   "execution_count": null,
   "id": "612f050c",
   "metadata": {},
   "outputs": [],
   "source": [
    "def henon_map(xn,yn, a, b):\n",
    "    xn_p1 = 1 - a*xn**2 + yn\n",
    "    yn_p1 = b*xn\n",
    "    return np.array([xn_p1, yn_p1], float)"
   ]
  },
  {
   "cell_type": "markdown",
   "id": "c29959bf",
   "metadata": {},
   "source": [
    "$\\quad$ Definindo os valores clássicos utilizados para as constantens, $a = 1.4$ e $b = 0.3$ e evoluindo a condição inicial $x = 0$ e $y=0$ 50 vezes, temos o seguintes plot"
   ]
  },
  {
   "cell_type": "code",
   "execution_count": null,
   "id": "77b8461a",
   "metadata": {},
   "outputs": [],
   "source": [
    "a, b = 1.4, 0.3 # Constantes\n",
    "\n",
    "r0 = np.array([1,1], float) # Condição Inicial\n",
    "\n",
    "xs = [r0[0]]\n",
    "ys = [r0[1]]\n",
    "\n",
    "N = 500\n",
    "for n in range(N):\n",
    "    r0 = henon_map(r0[0], r0[1], a, b)    \n",
    "    plt.plot(r0[0], r0[1], marker='o', linestyle='', markersize=3)\n",
    "\n",
    "plt.ylabel(\"y\")\n",
    "plt.xlabel(\"x\")\n",
    "plt.grid()\n",
    "plt.title(\"Mapa de Hénon\")\n",
    "plt.show()"
   ]
  },
  {
   "cell_type": "markdown",
   "id": "8838d0b9",
   "metadata": {},
   "source": [
    "Testando um ponto fixo"
   ]
  },
  {
   "cell_type": "code",
   "execution_count": null,
   "id": "85531ed6",
   "metadata": {},
   "outputs": [],
   "source": [
    "r0 = np.array([(np.sqrt(609)-7)/28,  3*(np.sqrt(609)-7)/(280)], float) # Condição Inicial\n",
    "epsilon = 10e-6\n",
    "r1 = r0+epsilon\n",
    "\n",
    "N = 500\n",
    "fig, axes = plt.subplots(1, 2, figsize=(25, 8)) \n",
    "\n",
    "axes[0].set_xlabel(\"x\")\n",
    "axes[0].set_ylabel(\"y\")\n",
    "axes[0].set_title(\"Mapa de Hanon para um x inical fixo\")\n",
    "\n",
    "for n in range(N):\n",
    "    r0 = henon_map(r0[0], r0[1], a, b)    \n",
    "    axes[0].scatter(r0[0], r0[1], s=3)\n",
    "\n",
    "axes[1].set_xlabel(\"y\")\n",
    "axes[1].set_ylabel(\"z\")\n",
    "axes[1].set_title(\"Mapa de Hanon para um x inicial fixo minimamente pertubado\")\n",
    "\n",
    "for n in range(N):\n",
    "    r1 = henon_map(r1[0], r1[1], a, b)    \n",
    "    axes[1].scatter(r1[0], r1[1], s=3)\n"
   ]
  },
  {
   "cell_type": "markdown",
   "id": "1e960c0f",
   "metadata": {},
   "source": [
    "Animacao da evolucao do mapa"
   ]
  },
  {
   "cell_type": "code",
   "execution_count": null,
   "id": "573aeba8",
   "metadata": {},
   "outputs": [],
   "source": [
    "r0 = np.array([1,1], float) # Condição Inicial\n",
    "\n",
    "xs = [r0[0]]\n",
    "ys = [r0[1]]\n",
    "\n",
    "\n",
    "N = 300\n",
    "sol = [r0.copy()]\n",
    "\n",
    "for _ in range(N):\n",
    "    r0 = henon_map(r0[0], r0[1], a, b)\n",
    "    sol.append(r0.copy())\n",
    "\n",
    "# Preparando a figura\n",
    "fig, ax = plt.subplots()\n",
    "ax.set_xlim(-1.5, 1.5)\n",
    "ax.set_ylim(-0.5, 0.5)\n",
    "\n",
    "def atualizar(frame_idx):\n",
    "    ax.set_title(f'Mapa de Hénon - {frame_idx/len(sol)*100:.2f}%')\n",
    "    x, y = sol[frame_idx]\n",
    "    ax.scatter(x,y, s = 1)\n",
    "\n",
    "\n",
    "ani = animation.FuncAnimation(fig, atualizar, frames=len(sol), interval=50)\n",
    "plt.close(fig)\n",
    "ani.save('mapa_henon.gif', writer='pillow')\n"
   ]
  },
  {
   "cell_type": "markdown",
   "id": "d560274a",
   "metadata": {},
   "source": [
    "## Conclusão"
   ]
  },
  {
   "cell_type": "markdown",
   "id": "c50f5847",
   "metadata": {},
   "source": [
    "$\\quad$ Concluímos que o estudo do comportamento de sistemas caóticos é de grande importância para a física, pois esses sistemas estão presentes em diversas áreas, como na climatologia, com as equações de Lorenz que modelam padrões atmosféricos complexos, e na eletrônica, com o circuito de Chua. Apesar de sua sensibilidade extrema às condições iniciais dificultar previsões de longo prazo, compreender suas dinâmicas é essencial para melhorar a capacidade de previsão e controle em contextos reais."
   ]
  },
  {
   "cell_type": "markdown",
   "id": "1e5fcd5a",
   "metadata": {},
   "source": [
    "## Referências"
   ]
  },
  {
   "cell_type": "markdown",
   "id": "fd4e851b",
   "metadata": {},
   "source": [
    "**[1]** Nonlinear Dynamics and Chaos, Steven H. Strogatz 2nd. Edition.\n",
    "\n",
    "**[2]** https://en.wikipedia.org/wiki/Lorenz_system\n",
    "\n",
    "**[3]** https://en.wikipedia.org/wiki/R%C3%B6ssler_attractor\n",
    "\n",
    "**[4]** https://en.wikipedia.org/wiki/Multiscroll_attractor\n",
    "\n",
    "**[5]** https://www.bbc.com/portuguese/geral-59617541"
   ]
  }
 ],
 "metadata": {
  "kernelspec": {
   "display_name": "Python 3",
   "language": "python",
   "name": "python3"
  },
  "language_info": {
   "codemirror_mode": {
    "name": "ipython",
    "version": 3
   },
   "file_extension": ".py",
   "mimetype": "text/x-python",
   "name": "python",
   "nbconvert_exporter": "python",
   "pygments_lexer": "ipython3",
   "version": "3.13.0"
  }
 },
 "nbformat": 4,
 "nbformat_minor": 5
}
