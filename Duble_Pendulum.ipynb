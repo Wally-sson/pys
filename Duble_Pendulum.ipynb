{
  "nbformat": 4,
  "nbformat_minor": 0,
  "metadata": {
    "colab": {
      "name": "Duble_Pendulum.ipynb",
      "provenance": [],
      "collapsed_sections": []
    },
    "kernelspec": {
      "display_name": "Python 3",
      "language": "python",
      "name": "python3"
    },
    "language_info": {
      "codemirror_mode": {
        "name": "ipython",
        "version": 3
      },
      "file_extension": ".py",
      "mimetype": "text/x-python",
      "name": "python",
      "nbconvert_exporter": "python",
      "pygments_lexer": "ipython3",
      "version": "3.7.3"
    }
  },
  "cells": [
    {
      "cell_type": "markdown",
      "metadata": {
        "colab_type": "text",
        "id": "zwvNsjLr4T9n"
      },
      "source": [
        "# Pêndulo Duplo\n",
        "\n",
        "* PET - Física UFRN\n",
        "* Petiano: Gabriel Zuza\n",
        "* Data: 09/2020\n",
        "\n",
        "O Objetivo desse `Notebook`  não é abordar de forma teórica as deduções e métodos envolvidos nos problemas, mas na prática, aplicar tais conceitos obtendo resultados concretos e representativos."
      ]
    },
    {
      "cell_type": "markdown",
      "metadata": {
        "colab_type": "text",
        "id": "Nda6potB4T_y"
      },
      "source": [
        "O problema do oscilador harmônico denovo? \n",
        "\n",
        "Siiiiiiim!!!\n",
        "\n",
        "Já publicamos sobre o [Pêndulo Simples e Forçado](https://github.com/GabrielZuza/PET/blob/master/Pendulo_Simples.ipynb) e também sobre as [Curvas de Lissajous](https://github.com/GabrielZuza/PET/blob/master/Curva_de_lissajous.ipynb), ambos resolvendo o oscilador hamônico. E nesse `Notebook` vamos resolver o pêndulo duplo, que nada mais é que do que um pêndulo com outro pêndulo na sua extremidade. Para tanto, usaremos da mecânica Lagrangeana."
      ]
    },
    {
      "cell_type": "markdown",
      "metadata": {
        "colab_type": "text",
        "id": "2AvP84nr4UBz"
      },
      "source": [
        "## Introdução Teórica"
      ]
    },
    {
      "cell_type": "markdown",
      "metadata": {
        "colab_type": "text",
        "id": "Jfg4-nyo5wY8"
      },
      "source": [
        "De início vamos definir nosso referêncial.Consideremos um problema bi-dimensional com o eixo $X$ na horizontal e o eixo $Y$ na vertical. De modo que o eixo Y cresça para cima e o eixo X cresça para direita;\n",
        "\n",
        "O Sistema está exposto a um campo gravitacional $g$;\n",
        "\n",
        "Consideremos também o primeiro pendulo como pêndulo 1. Portanto, $L_1$ é o comprimento da corda, $\\theta_1$ é o angulo entre a corda e o eixo $Y$ e na extremidade da corda, encontra-se uma esfera de massa $m_1$. Semelhantemente para o pêndulo 2, $L_2$ é o comprimento da corda, $\\theta_2$ é o angulo entre a corda e o eixo $Y$ e na extremidade da corda, encontra-se uma esfera de massa $m_2$;\n",
        "\n",
        "Conforme esquematizado na figura abaixo:"
      ]
    },
    {
      "cell_type": "markdown",
      "metadata": {
        "colab_type": "text",
        "id": "3Bb3LMVx4UEF"
      },
      "source": [
        "![Fonte: K. Symon. Mechanics (3rd Edition)](https://www.researchgate.net/profile/Iman_Izadgoshasb/publication/331024972/figure/fig1/AS:725254309699586@1549925510035/Double-pendulum-system.png)"
      ]
    },
    {
      "cell_type": "markdown",
      "metadata": {
        "colab_type": "text",
        "id": "mnU7YHSR_HAN"
      },
      "source": [
        "Assim, como as esferas estão nas pontas das cordas, se considerarmos $M_i >> M_{corda}$. Em outras palavras, se despresarmos a massa da corda e aproximarmos o contro de massa da corda + esfera como o contro de massa da esfera, Teremos:"
      ]
    },
    {
      "cell_type": "markdown",
      "metadata": {
        "colab_type": "text",
        "id": "Y-VaP36n5kku"
      },
      "source": [
        "\\begin{align*}\n",
        "x_1 & = l_1\\sin\\theta_1 \\\\\n",
        "y_1 & = -l_1\\cos\\theta_1 \\\\ \n",
        "x_2 & = l_1\\sin\\theta_1 + l_2\\sin\\theta_2\\\\ \n",
        "y_2 & = -l_1\\cos\\theta_1 - l_2\\cos\\theta_2 \n",
        "\\end{align*}\n",
        " \n"
      ]
    },
    {
      "cell_type": "markdown",
      "metadata": {
        "colab_type": "text",
        "id": "sPq-JwjwARpk"
      },
      "source": [
        "Preceba que para o primero pêndulo, o vetor posição $(x_1,y_1)$ é trivial, basta projetar a corda em cada coordenada.\n",
        "\n",
        "Já pra o segundo pêndulo, é como se tivéssimos dois vetores somados, um deles representando o primeiro pêndulo e o outro no segundo.  "
      ]
    },
    {
      "cell_type": "markdown",
      "metadata": {
        "colab_type": "text",
        "id": "bDW_GggTBAcM"
      },
      "source": [
        "Derivando as Equações obtidas a cima ( e usando a notação $\\frac{d\\theta}{dt} \\equiv \\dot{\\theta}$) , Temos:"
      ]
    },
    {
      "cell_type": "markdown",
      "metadata": {
        "colab_type": "text",
        "id": "WToryLfM_tDa"
      },
      "source": [
        "\\begin{align*}\n",
        "\\dot{x}_1 &= l_1\\dot{\\theta}_1\\cos\\theta_1\\\\\n",
        "\\dot{y}_1 &= l_1\\dot{\\theta}_1\\sin\\theta_1\\\\\n",
        "\\dot{x}_2 &= l_1\\dot{\\theta}_1\\cos\\theta_1 + l_2\\dot{\\theta}_2\\cos\\theta_2\\\\\n",
        "\\dot{y}_2 &= l_1\\dot{\\theta}_1\\sin\\theta_1 + l_2\\dot{\\theta}_2\\sin\\theta_2\n",
        "\\end{align*}\n",
        " "
      ]
    },
    {
      "cell_type": "markdown",
      "metadata": {
        "colab_type": "text",
        "id": "QNYuKR0_BvSi"
      },
      "source": [
        "Para calcular a Lagrangeana, prescisamos obter expressões para a Energia Potencial e para a Energia Cinética. Como já derivamos as equações acima, basta aplicar nas definições.\n",
        "\n",
        "Para energia potencial (Chamaremos de $V$) Temos:\n"
      ]
    },
    {
      "cell_type": "markdown",
      "metadata": {
        "colab_type": "text",
        "id": "HcuObIBJ5knR"
      },
      "source": [
        "\\begin{align*}\n",
        "V &= m_1y_1g + m_2y_2g \\\\\n",
        "&= m_1( -l_1\\cos\\theta_1)g + m_2 (-l_1\\cos\\theta_1 - l_2\\cos\\theta_2)g     \\\\ \n",
        "&= -m_1l_1\\cos\\theta_1g -m_2l_1\\cos\\theta_1g - m_2l_2\\cos\\theta_2g\\\\ \\\\\n",
        "\\end{align*}\n",
        "\\begin{equation*}\n",
        "\\therefore V =  -(m_1 + m_2)l_1\\cos\\theta_1g - m_2l_2\\cos\\theta_2g\n",
        "\\end{equation*}"
      ]
    },
    {
      "cell_type": "markdown",
      "metadata": {
        "colab_type": "text",
        "id": "jve_1GYAEeo_"
      },
      "source": [
        "Já para a energia cinética (Chamaremos de $T$), Temos:"
      ]
    },
    {
      "cell_type": "markdown",
      "metadata": {
        "colab_type": "text",
        "id": "riIIDzg95kpj"
      },
      "source": [
        "\\begin{align*}\n",
        "T &= \\tfrac{1}{2}m_1v_1^2 + \\tfrac{1}{2}m_2v_2^2\\\\ \n",
        "&= \\tfrac{1}{2}m_1(\\dot{x}_1^2 + \\dot{y}_1^2) + \\tfrac{1}{2}m_2(\\dot{x}_2^2 + \\dot{y}_2^2)\\\\\n",
        "&= \\tfrac{1}{2}m_1[{(l_1\\dot{\\theta}_1\\cos\\theta_1)}^2 + {(l_1\\dot{\\theta}_1\\sin\\theta_1)}^2] + \\tfrac{1}{2}m_2[{(l_1\\dot{\\theta}_1\\cos\\theta_1 + l_2\\dot{\\theta}_2\\cos\\theta_2)}^2 + {(l_1\\dot{\\theta}_1\\sin\\theta_1 + l_2\\dot{\\theta}_2\\sin\\theta_2)}^2]\\\\\\\\\n",
        "&\\therefore T = \\tfrac{1}{2}m_1l_1^2\\dot{\\theta}_1^2 + \\tfrac{1}{2}m_2[l_1^2\\dot{\\theta}_1^2 + l_2^2\\dot{\\theta}_2^2 + 2l_1l_2\\dot{\\theta}_1\\dot{\\theta}_2\\cos(\\theta_1 - \\theta_2)]\n",
        "\\end{align*}"
      ]
    },
    {
      "cell_type": "markdown",
      "metadata": {
        "colab_type": "text",
        "id": "-QvrpCACG--C"
      },
      "source": [
        "Relembrando a definição de Lagrangeana, $\\mathcal{L} = T - V$, aplicando as expreções obtidas acima, Obtemos:"
      ]
    },
    {
      "cell_type": "markdown",
      "metadata": {
        "colab_type": "text",
        "id": "jSs2VcH6HNuJ"
      },
      "source": [
        "\\begin{align*}\n",
        "\\mathcal{L} = \\tfrac{1}{2}m_1l_1^2\\dot{\\theta}_1^2 + \\tfrac{1}{2}m_2[l_1^2\\dot{\\theta}_1^2 + l_2^2\\dot{\\theta}_2^2 + 2l_1l_2\\dot{\\theta}_1\\dot{\\theta}_2\\cos(\\theta_1 - \\theta_2)] +(m_1 + m_2)l_1\\cos\\theta_1g + m_2l_2\\cos\\theta_2g\\\\\n",
        "\\end{align*}"
      ]
    },
    {
      "cell_type": "markdown",
      "metadata": {
        "colab_type": "text",
        "id": "42jRfiMJLOox"
      },
      "source": [
        "\\begin{align*}\n",
        "\\therefore \\mathcal{L} = \\tfrac{1}{2}(m_1+m_2)l_1^2\\dot{\\theta}_1^2 + \\tfrac{1}{2}m_2l_2^2\\dot{\\theta}_2^2 + m_1l_1l_2\\dot{\\theta}_1\\dot{\\theta}_2\\cos(\\theta_1 - \\theta_2) + (m_1+m_2)l_1\\cos\\theta_1g + m_2l_2\\cos\\theta_2g\n",
        "\\end{align*}"
      ]
    },
    {
      "cell_type": "markdown",
      "metadata": {
        "colab_type": "text",
        "id": "PyFDC2bbI10v"
      },
      "source": [
        "Da Equação de Euler-Lagrange, para problemas onde $f(x) \\equiv \\mathcal{L}$, sabemos que:"
      ]
    },
    {
      "cell_type": "markdown",
      "metadata": {
        "colab_type": "text",
        "id": "kP3jm_weJStm"
      },
      "source": [
        "\\begin{align*}\n",
        "\\frac{\\mathrm{d}}{\\mathrm{d}t}\\left(\\frac{\\partial\\mathcal{L}}{\\partial \\dot{q}_i}\\right) - \\frac{\\partial \\mathcal{L}}{\\partial q_i} = 0 \n",
        "\\end{align*}"
      ]
    },
    {
      "cell_type": "markdown",
      "metadata": {
        "colab_type": "text",
        "id": "zMuD6U2uJSv9"
      },
      "source": [
        "Onde, para nosso caso $q_i = \\theta_1, \\theta_2$."
      ]
    },
    {
      "cell_type": "markdown",
      "metadata": {
        "colab_type": "text",
        "id": "VgHLtFEVKSe3"
      },
      "source": [
        "Vamos calcular as derivadas necessárias passo-a-passo primeiro, por fins didáticos, para depois aplicar na equção de Euler-Lagrange:"
      ]
    },
    {
      "cell_type": "markdown",
      "metadata": {
        "colab_type": "text",
        "id": "NwOkr9kydLuq"
      },
      "source": [
        "As derivadas em relação a $\\theta_1$ ficam:"
      ]
    },
    {
      "cell_type": "markdown",
      "metadata": {
        "id": "pBjZgPpHckFH",
        "colab_type": "text"
      },
      "source": [
        "\\begin{align*}\n",
        "\\frac{\\partial\\mathcal{L}}{\\partial {\\theta_1}} &=  \\frac{\\partial }{\\partial {\\theta_1}} [\\tfrac{1}{2}(m_1+m_2)l_1^2\\dot{\\theta}_1^2  + m_1l_1l_2\\dot{\\theta}_1\\dot{\\theta}_2\\cos(\\theta_1 - \\theta_2) + (m_1+m_2)l_1\\cos\\theta_1g]\\\\\n",
        "&= -m_2l_1l_2\\dot{\\theta}_1\\dot{\\theta}_2\\sin(\\theta_1 - \\theta_2) - (m_1 + m_2) l_1\\sin(\\theta_1)g\n",
        "\\end{align*}\n"
      ]
    },
    {
      "cell_type": "markdown",
      "metadata": {
        "id": "BtSajA6RckFI",
        "colab_type": "text"
      },
      "source": [
        "\\begin{align*}\n",
        "\\frac{\\partial\\mathcal{L}}{\\partial {\\dot{\\theta_1}}} &= \\frac{\\partial }{\\partial {\\dot{\\theta_1}}} [\\tfrac{1}{2}(m_1+m_2)l_1^2\\dot{\\theta}_1^2  + m_1l_1l_2\\dot{\\theta}_1\\dot{\\theta}_2\\cos(\\theta_1 - \\theta_2) + (m_1+m_2)l_1\\cos\\theta_1g]\\\\\n",
        "&=(m_1 +m_2)l_1^2\\dot{\\theta}_1 + m_2l_1l_2\\dot{\\theta}_2\\cos(\\theta_1 - \\theta_2)\n",
        "\\end{align*}"
      ]
    },
    {
      "cell_type": "markdown",
      "metadata": {
        "colab_type": "text",
        "id": "xYpS-8UMdQaw"
      },
      "source": [
        "As derivadas em relação a $\\theta_2$ ficam:"
      ]
    },
    {
      "cell_type": "markdown",
      "metadata": {
        "colab_type": "text",
        "id": "7IqXN-4uJqfO"
      },
      "source": [
        "\\begin{align*}\n",
        "\\frac{\\partial\\mathcal{L}}{\\partial {\\theta_2}} &=  \\frac{\\partial }{\\partial {\\theta_2}} [\\tfrac{1}{2}m_2l_2^2\\dot{\\theta}_2^2 + m_1l_1l_2\\dot{\\theta}_1\\dot{\\theta}_2\\cos(\\theta_1 - \\theta_2) + m_2l_2\\cos\\theta_2g]\\\\\n",
        "&=\\kern0pt{ {m_2}{l_1}{l_2}{{\\dot \\theta }_1}{{\\dot \\theta }_2}\\sin\\left( {{\\theta _1} }-{ {\\theta _2}} \\right) }-{ {m_2}g{l_2}\\sin{\\theta _2}}\n",
        "\\end{align*}"
      ]
    },
    {
      "cell_type": "markdown",
      "metadata": {
        "id": "l_qtYF4rckFJ",
        "colab_type": "text"
      },
      "source": [
        "\\begin{align*}\n",
        "\\frac{\\partial\\mathcal{L}}{\\partial {\\dot{\\theta_2}}} &=  \\frac{\\partial }{\\partial {\\dot{\\theta_2}}} [\\tfrac{1}{2}m_2l_2^2\\dot{\\theta}_2^2 + m_1l_1l_2\\dot{\\theta}_1\\dot{\\theta}_2\\cos(\\theta_1 - \\theta_2) + m_2l_2\\cos\\theta_2g]\\\\\n",
        "&=m_2l_2^2\\dot{\\theta_2} + m_2l_1l_2\\dot{\\theta_2}\\cos(\\theta_1 - \\theta_2)\n",
        "\\end{align*}"
      ]
    },
    {
      "cell_type": "markdown",
      "metadata": {
        "colab_type": "text",
        "id": "LeM0kqisJqjO"
      },
      "source": [
        "Substituido as expressões obtidas para $\\frac{\\partial\\mathcal{L}}{\\partial {\\dot{\\theta_1}}}$ e $\\frac{\\partial\\mathcal{L}}{\\partial {\\theta_1}}$ na Equação de Euler-Lagrange, obtemos nossa primeira lagrangeana:"
      ]
    },
    {
      "cell_type": "markdown",
      "metadata": {
        "colab_type": "text",
        "id": "zMNqhrGuJqpC"
      },
      "source": [
        "\\begin{align*}\n",
        "\\frac{d}{dt}\\big[(m_1 +m_2)l_1^2\\dot{\\theta}_1 + m_2l_1l_2\\dot{\\theta}_2\\cos(\\theta_1 - \\theta_2)] + m_2l_1l_2\\dot{\\theta}_1\\dot{\\theta}_2\\sin(\\theta_1 - \\theta_2) + (m_1 + m_2) l_1\\sin(\\theta_1)g = 0\n",
        "\\end{align*}"
      ]
    },
    {
      "cell_type": "markdown",
      "metadata": {
        "colab_type": "text",
        "id": "lnBMroW8gMOX"
      },
      "source": [
        "\\begin{align*}\n",
        "{( {{m_1} + {m_2}} )l_1^2{\\ddot{\\theta _1}} }\n",
        "+ {{m_2}{l_1}{l_2}{\\ddot{\\theta _2}}\\cos(\\theta_1 - \\theta_2) }\n",
        "- {{m_2}{l_1}{l_2}\\dot{\\theta _2}\\sin(\\theta_1 - \\theta_2)(\\dot{\\theta _1} - \\dot{\\theta _2}) }\n",
        "+ {{m_2}{l_1}{l_2}{\\dot{\\theta _1}}{\\dot{\\theta _2}}\\sin(\\theta_1 - \\theta_2)}\n",
        "+ {({m_1} + {m_2})g{l_1}\\sin {\\theta _1} }={ 0}\n",
        "\\end{align*}"
      ]
    },
    {
      "cell_type": "markdown",
      "metadata": {
        "colab_type": "text",
        "id": "JRXVXDsken5X"
      },
      "source": [
        "\\begin{align*}\n",
        "{( {{m_1} + {m_2}})l_1^2{\\ddot \\theta _1} }\n",
        "+ {{m_2}{l_1}{l_2}{\\ddot \\theta _2}\\cos(\\theta_1 - \\theta_2)}\n",
        "+ {{m_2}{l_1}{l_2}\\dot \\theta _2^2\\sin(\\theta_1 - \\theta_2) }\n",
        "+ {( {{m_1} + {m_2}} )g{l_1}\\sin {\\theta _1} }={ 0.}\n",
        "\\end{align*}"
      ]
    },
    {
      "cell_type": "markdown",
      "metadata": {
        "colab_type": "text",
        "id": "nRhIkIogJqtS"
      },
      "source": [
        "\\begin{align*}\n",
        "{\\left( {{m_1} + {m_2}} \\right){l_1}{\\ddot \\theta _1} }\n",
        "+ {{m_2}{l_2}{\\ddot \\theta _2}\\cos(\\theta_1 - \\theta_2) }\n",
        "+ {{m_2}{l_2}\\dot \\theta _2^2\\sin(\\theta_1 - \\theta_2) }\n",
        "+ {( {{m_1} + {m_2}} )g\\sin {\\theta _1} }={ 0.}\n",
        "\\end{align*}"
      ]
    },
    {
      "cell_type": "markdown",
      "metadata": {
        "colab_type": "text",
        "id": "3qPnHLZFJSz0"
      },
      "source": [
        "Similarmente, substituido as expressões obtidas para $\\frac{\\partial\\mathcal{L}}{\\partial {\\dot{\\theta_2}}}$ e $\\frac{\\partial\\mathcal{L}}{\\partial {\\theta_2}}$ na Equação de Euler-Lagrange, obtemos nossa segunda lagrangeana:"
      ]
    },
    {
      "cell_type": "markdown",
      "metadata": {
        "colab_type": "text",
        "id": "H4NggLDhJS2S"
      },
      "source": [
        "\\begin{align*}\n",
        "{\\frac{d}{{dt}}\\big[ {{m_2}l_2^2{{\\dot \\theta }_2}  }+{  {m_2}{l_1}{l_2}{{\\dot \\theta }_1}\\cos(\\theta_1 - \\theta_2)} \\big] }\n",
        "- {{m_2}{l_1}{l_2}{\\dot{\\theta _1}}{\\dot{\\theta _2}}\\sin(\\theta_1 - \\theta_2)}\n",
        "+ {{m_2}g{l_2}\\sin {\\theta _2} }={ 0,}\n",
        "\\end{align*}"
      ]
    },
    {
      "cell_type": "markdown",
      "metadata": {
        "colab_type": "text",
        "id": "cw6KA7pkhsKc"
      },
      "source": [
        "\\begin{align*}\n",
        "{{m_2}l_2^2{\\ddot{\\theta _2}} }+{ {m_2}{l_1}{l_2}{\\ddot{\\theta _1}}\\cos(\\theta_1 - \\theta_2) }\n",
        "- {{m_2}{l_1}{l_2}\\dot{\\theta _1}^2\\sin(\\theta_1 - \\theta_2)}\n",
        "+ {{m_2}g{l_2}\\sin {\\theta _2} }={ 0.}\n",
        "\\end{align*}"
      ]
    },
    {
      "cell_type": "markdown",
      "metadata": {
        "colab_type": "text",
        "id": "jbYWQrQchsNQ"
      },
      "source": [
        "\\begin{align*}\n",
        "{{l_2}{\\ddot{\\theta _2}} }+{ {l_1}{\\ddot{\\theta _1}}\\sin(\\theta_1 - \\theta_2) }\n",
        "- {{l_1}\\dot{\\theta _1}^2\\sin(\\theta_1 - \\theta_2)}\n",
        "+ {g\\sin {\\theta _2} }={ 0.}\n",
        "\\end{align*}"
      ]
    },
    {
      "cell_type": "markdown",
      "metadata": {
        "colab_type": "text",
        "id": "ywWayIqEhsQ8"
      },
      "source": [
        "Pronto! Dessa forma, esse sistema pode ser descrito por essas duas equações:"
      ]
    },
    {
      "cell_type": "markdown",
      "metadata": {
        "colab_type": "text",
        "id": "xIraOUFihsmz"
      },
      "source": [
        "\\begin{align*}\n",
        "{( {{m_1} + {m_2}}){l_1}{\\ddot{\\theta _1}} }\n",
        "+ {{m_2}{l_2}{\\ddot{\\theta _2}}\\cos(\\theta_1 - \\theta_2) }\n",
        "+ {{m_2}{l_2}\\dot{\\theta _2}^2\\sin(\\theta_1 - \\theta_2) }\n",
        "+ {( {{m_1} + {m_2}} )g\\sin {\\theta _1} }={ 0.}\\\\\n",
        "{{l_2}{\\ddot{\\theta _2}} }+{ {l_1}{\\ddot{\\theta _1}}\\cos(\\theta_1 - \\theta_2) }\n",
        "- {{l_1}\\dot{\\theta _1}^2\\sin(\\theta_1 - \\theta_2)}\n",
        "+ {g\\sin {\\theta _2} }={ 0.}\n",
        "\\end{align*}"
      ]
    },
    {
      "cell_type": "markdown",
      "metadata": {
        "colab_type": "text",
        "id": "kO7IlGpGhsTp"
      },
      "source": [
        "No entanto para resolver essas equações numericamentes, pelo método de Runge-Kutta de $4^a$ ordem, é presciso de separar essas duas equações de segunda ordem em 4 equações de primeira ordem, usando variáveis auxiliares $a$ e $b$ de modo que $a\\equiv \\dot{\\theta_1}$ e portanto $\\dot{a}\\equiv \\ddot{\\theta_1}$. Assim como, $b\\equiv \\dot{\\theta_2}$ e portanto $\\dot{b}\\equiv \\ddot{\\theta_2}$ "
      ]
    },
    {
      "cell_type": "markdown",
      "metadata": {
        "colab_type": "text",
        "id": "AEyPpQtmhsgz"
      },
      "source": [
        "Dessa forma, rearrangando as equações acima e as variáveis auxiliares ficam:"
      ]
    },
    {
      "cell_type": "markdown",
      "metadata": {
        "colab_type": "text",
        "id": "HCneXm6Yhskk"
      },
      "source": [
        "\\begin{align*}\n",
        "\\dot{a} = \\frac{m_2g\\sin\\theta_2\\cos(\\theta_1-\\theta_2) - m_2\\sin(\\theta_1 - \\theta_2)[l_1z_1^2\\cos(\\theta_1 - \\theta_2) + l_2z_2^2] - (m_1+m_2)g\\sin\\theta_1}{l_1[m_1 + m_2\\sin^2(\\theta_1-\\theta_2)]},\\\\\n",
        "\\dot{b} = \\frac{(m_1+m_2)[l_1z_1^2\\sin(\\theta_1-\\theta_2) - g\\sin\\theta_2 + g\\sin\\theta_1\\cos(\\theta_1-\\theta_2)]+m_2l_2z_2^2\\sin(\\theta_1-\\theta_2)\\cos(\\theta_1-\\theta_2)}{l_2[m_1 + m_2\\sin^2(\\theta_1-\\theta_2)]}\n",
        "\\end{align*}"
      ]
    },
    {
      "cell_type": "markdown",
      "metadata": {
        "colab_type": "text",
        "id": "GLnOcOT5hspp"
      },
      "source": [
        "Finalmente, vamos passar para a implementação"
      ]
    },
    {
      "cell_type": "markdown",
      "metadata": {
        "colab_type": "text",
        "id": "VMmdlGH8pZQW"
      },
      "source": [
        "## Resolvendo o Pêndulo Duplo"
      ]
    },
    {
      "cell_type": "markdown",
      "metadata": {
        "colab_type": "text",
        "id": "zywNZj1kCrkz"
      },
      "source": [
        "Importando as bibliotecas que usaremos."
      ]
    },
    {
      "cell_type": "code",
      "metadata": {
        "colab_type": "code",
        "id": "nL8VpjAMqQwp",
        "colab": {}
      },
      "source": [
        "import sys\n",
        "import numpy as np\n",
        "from scipy.integrate import odeint\n",
        "import matplotlib.pyplot as plt\n",
        "import matplotlib.animation as animation"
      ],
      "execution_count": null,
      "outputs": []
    },
    {
      "cell_type": "markdown",
      "metadata": {
        "colab_type": "text",
        "id": "s1i5nGZlCxKn"
      },
      "source": [
        "De início, vamos definir as constantes de nosso problema o comprimento das cordas $L_1$ e $L_2$, em metros. O valor das massas $m_1$ e $m_2$ em $kg$. E a aceleração gravitacional em $m/s^2$.\n",
        "\n",
        "Esses valores são completamente arbitráros."
      ]
    },
    {
      "cell_type": "code",
      "metadata": {
        "colab_type": "code",
        "id": "c-PjyUmO2drc",
        "colab": {}
      },
      "source": [
        "L1, L2,m1, m2, g = 1, 1, 1, 1, 9.81"
      ],
      "execution_count": null,
      "outputs": []
    },
    {
      "cell_type": "markdown",
      "metadata": {
        "colab_type": "text",
        "id": "BxA8PFosHpjd"
      },
      "source": [
        "Assim, definindo nossa Equação diferencial ordinária $f(r,t)$, onde $r$ é um vetor que armazena os valores de ${\\theta_1}$, ${a}$, ${\\theta_2}$, ${b}$, nessa ordem"
      ]
    },
    {
      "cell_type": "code",
      "metadata": {
        "colab_type": "code",
        "id": "BHfctlvt2hmy",
        "colab": {}
      },
      "source": [
        "def f(r, t):\n",
        "    global m1,m2,L1,L2\n",
        "\n",
        "    theta1, a, theta2, b = r\n",
        "\n",
        "    c, s = np.cos(theta1-theta2), np.sin(theta1-theta2)\n",
        "\n",
        "    theta1ponto = a\n",
        "    aponto = (m2*g*np.sin(theta2)*c - m2*s*(L1*a**2*c + L2*b**2) -\n",
        "             (m1+m2)*g*np.sin(theta1)) / L1 / (m1 + m2*s**2)\n",
        "    theta2ponto = b\n",
        "    bponto = ((m1+m2)*(L1*a**2*s - g*np.sin(theta2) + g*np.sin(theta1)*c) + \n",
        "             m2*L2*b**2*s*c) / L2 / (m1 + m2*s**2)\n",
        "    return theta1ponto, aponto, theta2ponto, bponto"
      ],
      "execution_count": null,
      "outputs": []
    },
    {
      "cell_type": "markdown",
      "metadata": {
        "colab_type": "text",
        "id": "nreKgMIjJUpk"
      },
      "source": [
        "Definindo agora as consições inicias e o tempo que será simulado, em segundos:"
      ]
    },
    {
      "cell_type": "code",
      "metadata": {
        "colab_type": "code",
        "id": "JzCjnH0B2n4i",
        "colab": {}
      },
      "source": [
        "tfinal, step = 30, 0.01\n",
        "t = np.arange(0, tfinal+step, step)\n",
        "r0 = np.array([7*np.pi/10, 0, 9*np.pi/10, 0])"
      ],
      "execution_count": null,
      "outputs": []
    },
    {
      "cell_type": "markdown",
      "metadata": {
        "colab_type": "text",
        "id": "RfXfqXelMic_"
      },
      "source": [
        "Com isso, já conseguimos aplicar o Runge_Kutta de quarta ordem, veja que já aplicamos anteriormente ([nesse notebook](https://github.com/GabrielZuza/PET/blob/master/Pendulo_Simples.ipynb)) o método Runge-Kutta de $4^a$ ordem manualmente, então nesse `notebook` vamos resolver usando uma função do [Scipy](https://docs.scipy.org/doc/scipy/reference/index.html). Principalmente para aumentar nosso repertório para resolver EDOs mas também porque muitas vezes, as bibliotecas não mais otimizadas numericamente e com isso conseguem os mesmos resultados computacionais porém mais baratos \n",
        "\n",
        "o Scipy é uma biblioteca muito conhecida no meio científico que serve inclusive de base para outras rotinas mais específicas.\n",
        "\n",
        "Usaremos a função [`odeint`](https://docs.scipy.org/doc/scipy/reference/generated/scipy.integrate.odeint.html), (que é uma abreviação do ingles Ordinary Differential Equation Integration), essa função usa rotinas do LSODA (Livermore Solver para Equações Diferenciais Ordinárias com o método automático de comutação para problemas rígidos e não-rígidos), que foi implementado na biblioteca Fortran ODEPACK."
      ]
    },
    {
      "cell_type": "code",
      "metadata": {
        "colab_type": "code",
        "id": "6uAeonT3PH-r",
        "colab": {}
      },
      "source": [
        "r = odeint(f, r0, t)"
      ],
      "execution_count": null,
      "outputs": []
    },
    {
      "cell_type": "markdown",
      "metadata": {
        "colab_type": "text",
        "id": "NZCMJN35PN7D"
      },
      "source": [
        "Assim sendo, desempacotando os valores de $\\theta_1$ e $\\theta_2$, e fazendo a transformaçãp para coordenadas cartesianas:"
      ]
    },
    {
      "cell_type": "code",
      "metadata": {
        "colab_type": "code",
        "id": "QG9EKgEB1UiU",
        "colab": {}
      },
      "source": [
        "theta1, theta2 = r[:,0], r[:,2]\n",
        "\n",
        "x1 = L1 * np.sin(theta1)\n",
        "y1 = -L1 * np.cos(theta1)\n",
        "x2 = x1 + L2 * np.sin(theta2)\n",
        "y2 = y1 - L2 * np.cos(theta2)"
      ],
      "execution_count": null,
      "outputs": []
    },
    {
      "cell_type": "markdown",
      "metadata": {
        "colab_type": "text",
        "id": "XYXN6kjpRcFr"
      },
      "source": [
        "## Plotando"
      ]
    },
    {
      "cell_type": "markdown",
      "metadata": {
        "id": "GIwF36LNckFf",
        "colab_type": "text"
      },
      "source": [
        "Vamos fazer um GIF para visualizar nossa simulação.\n",
        "\n",
        "Começando somente pelo pêndulo, como mostrado no esquema no início no notebook"
      ]
    },
    {
      "cell_type": "code",
      "metadata": {
        "colab_type": "code",
        "id": "NAIM9CvQcM6q",
        "colab": {}
      },
      "source": [
        "count = 0\n",
        "count += 1\n",
        "\n",
        "fig = plt.figure()\n",
        "ax = fig.add_subplot(111,xlim=(-2,2),ylim=(-2,2))\n",
        "plt.axis('off')\n",
        "\n",
        "line, = ax.plot([], [], '-',color='k', lw=2)\n",
        "bola1, = ax.plot([], [], 'bo')\n",
        "bola2, = ax.plot([], [], 'ro')\n",
        "centro, = ax.plot([], [], 'ko')\n",
        "\n",
        "def init():\n",
        "    line.set_data([], [])\n",
        "    return line\n",
        "\n",
        "def animate(i):\n",
        "    thisx = [0, x1[i], x2[i]]\n",
        "    thisy = [0, y1[i], y2[i]]\n",
        "                    \n",
        "    line.set_data(thisx, thisy)\n",
        "    bola1.set_data(x1[i], y1[i])\n",
        "    bola2.set_data(x2[i], y2[i])\n",
        "    centro.set_data(0,0)\n",
        "\n",
        "    return line,bola1,bola2,centro\n",
        "\n",
        "ani = animation.FuncAnimation(fig, animate, np.arange(1, len(r)),\n",
        "    interval=30, init_func=init)\n",
        "#plt.show()\n",
        "#ani.save(f'plot{count}.gif')\n"
      ],
      "execution_count": null,
      "outputs": []
    },
    {
      "cell_type": "markdown",
      "metadata": {
        "id": "wuRFX9HackFi",
        "colab_type": "text"
      },
      "source": [
        "![Plot1](https://media.giphy.com/media/idKU1ctSYvpJ0CU56T/giphy.gif)\n"
      ]
    },
    {
      "cell_type": "markdown",
      "metadata": {
        "id": "EXSi9IaAckFi",
        "colab_type": "text"
      },
      "source": [
        "Agora, Vamos incrementar nosso plot. Vamos adicionar um \"rastro\" para nossos pêndulos que refletem as posições nas 50 ultimas iterações:"
      ]
    },
    {
      "cell_type": "code",
      "metadata": {
        "id": "hQxs0yqSckFi",
        "colab_type": "code",
        "colab": {}
      },
      "source": [
        "count += 1\n",
        "fig = plt.figure()\n",
        "ax = fig.add_subplot(111,xlim=(-2,2),ylim=(-2,2))\n",
        "plt.axis('off')\n",
        "\n",
        "line, = ax.plot([], [], '-',color='k', lw=2)\n",
        "bola1, = ax.plot([], [], 'bo')\n",
        "bola2, = ax.plot([], [], 'ro')\n",
        "centro, = ax.plot([], [], 'ko')\n",
        "trace1, = ax.plot([], [], '-',color='b', lw=2,alpha=0.5)\n",
        "trace2, = ax.plot([], [], '-',color='r', lw=2,alpha=0.5)\n",
        "\n",
        "def init():\n",
        "    line.set_data([], [])\n",
        "    return line\n",
        "\n",
        "def animate(i):\n",
        "    tracex1, tracey1, tracex2, tracey2  = [],[],[],[]\n",
        "    thisx = [0, x1[i], x2[i]]\n",
        "    thisy = [0, y1[i], y2[i]]\n",
        "\n",
        "    for k in range(i,1,-1):\n",
        "        tracex1.append(x1[k])\n",
        "        tracey1.append(y1[k])\n",
        "        tracex2.append(x2[k])\n",
        "        tracey2.append(y2[k])\n",
        "        \n",
        "        if len(tracex1)>50:\n",
        "            break\n",
        "                    \n",
        "    line.set_data(thisx, thisy)\n",
        "    bola1.set_data(x1[i], y1[i])\n",
        "    bola2.set_data(x2[i], y2[i])\n",
        "    centro.set_data(0,0)\n",
        "    trace2.set_data(tracex2, tracey2)\n",
        "    trace1.set_data(tracex1, tracey1)\n",
        "    \n",
        "    return line,bola1,bola2,centro,trace1, trace2\n",
        "\n",
        "ani = animation.FuncAnimation(fig, animate, np.arange(1, len(r)),\n",
        "    interval=30, init_func=init)\n",
        "\n",
        "#ani.save(f'plot{count}.gif')\n",
        "#plt.show()"
      ],
      "execution_count": null,
      "outputs": []
    },
    {
      "cell_type": "markdown",
      "metadata": {
        "id": "__VVjAYhckFl",
        "colab_type": "text"
      },
      "source": [
        "![Plot2](https://media.giphy.com/media/e8ndqk4vSTxBrgz64h/giphy.gif)"
      ]
    },
    {
      "cell_type": "markdown",
      "metadata": {
        "id": "9yFY09f3ckFl",
        "colab_type": "text"
      },
      "source": [
        "Veremos agora como ficaria, sem as cordas e o ponto fixo:"
      ]
    },
    {
      "cell_type": "code",
      "metadata": {
        "id": "TDhcdw2qckFl",
        "colab_type": "code",
        "colab": {}
      },
      "source": [
        "count += 1\n",
        "fig = plt.figure()\n",
        "ax = fig.add_subplot(111,xlim=(-2,2),ylim=(-2,2))\n",
        "plt.axis('off')\n",
        "\n",
        "line, = ax.plot([], [], '-',color='k', lw=2)\n",
        "bola1, = ax.plot([], [], 'bo')\n",
        "bola2, = ax.plot([], [], 'ro')\n",
        "centro, = ax.plot([], [], 'ko')\n",
        "trace1, = ax.plot([], [], '-',color='b', lw=2,alpha=0.5)\n",
        "trace2, = ax.plot([], [], '-',color='r', lw=2,alpha=0.5)\n",
        "\n",
        "def init():\n",
        "    line.set_data([], [])\n",
        "    return line\n",
        "\n",
        "def animate(i):\n",
        "    tracex1, tracey1, tracex2, tracey2  = [],[],[],[]\n",
        "    thisx = [0, x1[i], x2[i]]\n",
        "    thisy = [0, y1[i], y2[i]]\n",
        "\n",
        "    for k in range(i,1,-1):\n",
        "        tracex1.append(x1[k])\n",
        "        tracey1.append(y1[k])\n",
        "        tracex2.append(x2[k])\n",
        "        tracey2.append(y2[k])\n",
        "        \n",
        "        if len(tracex1)>50:\n",
        "            break\n",
        "                    \n",
        "    #line.set_data(thisx, thisy)\n",
        "    bola1.set_data(x1[i], y1[i])\n",
        "    bola2.set_data(x2[i], y2[i])\n",
        "    #centro.set_data(0,0)\n",
        "    trace2.set_data(tracex2, tracey2)\n",
        "    trace1.set_data(tracex1, tracey1)\n",
        "    \n",
        "    return line,bola1,bola2,centro,trace1, trace2\n",
        "\n",
        "ani = animation.FuncAnimation(fig, animate, np.arange(1, len(r)),\n",
        "    interval=30, init_func=init)\n",
        "\n",
        "#ani.save(f'plot{count}.gif')\n",
        "#plt.show()"
      ],
      "execution_count": null,
      "outputs": []
    },
    {
      "cell_type": "markdown",
      "metadata": {
        "id": "qsfilzBVckFn",
        "colab_type": "text"
      },
      "source": [
        "![Plot3](https://media.giphy.com/media/8VONLUQg6ydzltQpEk/giphy.gif)"
      ]
    },
    {
      "cell_type": "markdown",
      "metadata": {
        "id": "Ir9CiW8AckFn",
        "colab_type": "text"
      },
      "source": [
        "Agora, vamos abusar do `ctrl + c` `ctrl + v` para repetir esses plots para 3 pendulos simultâneamente; Cada um com condições iniciais diferentes.;"
      ]
    },
    {
      "cell_type": "markdown",
      "metadata": {
        "id": "FzNGckivckFo",
        "colab_type": "text"
      },
      "source": [
        "Para as condições iniciais, vamos manter as velocidades angulares começando zeradas, e vamos escolher aleaoriamente os angulos $\\theta_1$ e $\\theta_2$ dentro de um invervalo restrito para que os pêndulos tenham posições inicias diferentes mas não muito. \n",
        "\n",
        "Vamos escolher $\\theta_1$ de uma destribuição $q_1(x) = \\frac{\\pi}{10}Uniform(6,8)$\n",
        "\n",
        "e $\\theta_2$ de uma destribuição $q_2(x) = \\frac{\\pi}{10}Uniform(8,10)$"
      ]
    },
    {
      "cell_type": "code",
      "metadata": {
        "id": "M_2ARDkVckFo",
        "colab_type": "code",
        "colab": {}
      },
      "source": [
        "r0 = np.array([np.random.uniform(6,8)*np.pi/10, 0, np.random.uniform(8,10)*np.pi/10, 0])\n",
        "r = odeint(f, r0, t)\n",
        "theta1, theta2 = r[:,0], r[:,2]\n",
        "\n",
        "ax1 = L1 * np.sin(theta1)\n",
        "ay1 = -L1 * np.cos(theta1)\n",
        "ax2 = ax1 + L2 * np.sin(theta2)\n",
        "ay2 = ay1 - L2 * np.cos(theta2)\n",
        "\n",
        "\n",
        "r0 = np.array([np.random.uniform(6,8)*np.pi/10, 0, np.random.uniform(8,10)*np.pi/10, 0])\n",
        "r = odeint(f, r0, t)\n",
        "theta1, theta2 = r[:,0], r[:,2]\n",
        "\n",
        "bx1 = L1 * np.sin(theta1)\n",
        "by1 = -L1 * np.cos(theta1)\n",
        "bx2 = bx1 + L2 * np.sin(theta2)\n",
        "by2 = by1 - L2 * np.cos(theta2)\n",
        "\n",
        "r0 = np.array([np.random.uniform(6,8)*np.pi/10, 0, np.random.uniform(8,10)*np.pi/10, 0])\n",
        "r = odeint(f, r0, t)\n",
        "theta1, theta2 = r[:,0], r[:,2]\n",
        "\n",
        "cx1 = L1 * np.sin(theta1)\n",
        "cy1 = -L1 * np.cos(theta1)\n",
        "cx2 = cx1 + L2 * np.sin(theta2)\n",
        "cy2 = cy1 - L2 * np.cos(theta2)\n"
      ],
      "execution_count": null,
      "outputs": []
    },
    {
      "cell_type": "code",
      "metadata": {
        "id": "irhGz4DFckFq",
        "colab_type": "code",
        "colab": {}
      },
      "source": [
        "count +=1\n",
        "fig = plt.figure(figsize=(16,16))\n",
        "fig = plt.figure()\n",
        "ax = fig.add_subplot(111,xlim=(-2,2),ylim=(-2,2))\n",
        "#ax.grid()\n",
        "plt.axis('off')\n",
        "\n",
        "aline, = ax.plot([], [], '-',color='r', lw=2)\n",
        "bline, = ax.plot([], [], '-',color='g', lw=2)\n",
        "cline, = ax.plot([], [], '-',color='c', lw=2)\n",
        "\n",
        "centro, = ax.plot([], [], 'ko')\n",
        "\n",
        "abola1, = ax.plot([], [], 'bo')\n",
        "abola2, = ax.plot([], [], 'ro')\n",
        "bbola1, = ax.plot([], [], 'ko')\n",
        "bbola2, = ax.plot([], [], 'go')\n",
        "cbola1, = ax.plot([], [], 'mo')\n",
        "cbola2, = ax.plot([], [], 'co')\n",
        "\n",
        "atrace1, = ax.plot([], [], '-',color='b', lw=2,alpha=0.5)\n",
        "atrace2, = ax.plot([], [], '-',color='r', lw=2,alpha=0.5)\n",
        "btrace1, = ax.plot([], [], '-',color='k', lw=2,alpha=0.5)\n",
        "btrace2, = ax.plot([], [], '-',color='g', lw=2,alpha=0.5)\n",
        "ctrace1, = ax.plot([], [], '-',color='m', lw=2,alpha=0.5)\n",
        "ctrace2, = ax.plot([], [], '-',color='c', lw=2,alpha=0.5)\n",
        "\n",
        "def init():\n",
        "    line.set_data([], [])\n",
        "    return line\n",
        "\n",
        "def animate(i):\n",
        "    atracex1, atracey1, atracex2, atracey2  = [],[],[],[]\n",
        "    btracex1, btracey1, btracex2, btracey2  = [],[],[],[]\n",
        "    ctracex1, ctracey1, ctracex2, ctracey2  = [],[],[],[]\n",
        "    \n",
        "    athisx = [0, ax1[i], ax2[i]]\n",
        "    athisy = [0, ay1[i], ay2[i]]\n",
        "    bthisx = [0, bx1[i], bx2[i]]\n",
        "    bthisy = [0, by1[i], by2[i]]\n",
        "    cthisx = [0, cx1[i], cx2[i]]\n",
        "    cthisy = [0, cy1[i], cy2[i]]\n",
        "\n",
        "    for k in range(i,1,-1):\n",
        "        atracex1.append(ax1[k])\n",
        "        atracey1.append(ay1[k])\n",
        "        atracex2.append(ax2[k])\n",
        "        atracey2.append(ay2[k])\n",
        "        btracex1.append(bx1[k])\n",
        "        btracey1.append(by1[k])\n",
        "        btracex2.append(bx2[k])\n",
        "        btracey2.append(by2[k])\n",
        "        ctracex1.append(cx1[k])\n",
        "        ctracey1.append(cy1[k])\n",
        "        ctracex2.append(cx2[k])\n",
        "        ctracey2.append(cy2[k])\n",
        "\n",
        "        if len(atracex1)>50:\n",
        "            break\n",
        "\n",
        "    aline.set_data(athisx, athisy)\n",
        "    bline.set_data(bthisx, bthisy)\n",
        "    cline.set_data(cthisx, cthisy)\n",
        "    \n",
        "    abola1.set_data(ax1[i], ay1[i])\n",
        "    abola2.set_data(ax2[i], ay2[i])\n",
        "    bbola1.set_data(bx1[i], by1[i])\n",
        "    bbola2.set_data(bx2[i], by2[i])\n",
        "    cbola1.set_data(cx1[i], cy1[i])\n",
        "    cbola2.set_data(cx2[i], cy2[i])\n",
        "    \n",
        "    centro.set_data(0,0)\n",
        "\n",
        "    atrace1.set_data(atracex1, atracey1)\n",
        "    atrace2.set_data(atracex2, atracey2)\n",
        "    btrace1.set_data(btracex1, btracey1)\n",
        "    btrace2.set_data(btracex2, btracey2)\n",
        "    ctrace1.set_data(ctracex1, ctracey1)\n",
        "    ctrace2.set_data(ctracex2, ctracey2)\n",
        "\n",
        "    return atracex1,atracey1,atracex2,atracey2,btracex1,btracey1,btracex2,btracey2, \\\n",
        "        ctracex1, ctracey1,ctracex2,ctracey2\n",
        "\n",
        "ani = animation.FuncAnimation(fig, animate, np.arange(1, len(r)),\n",
        "    interval=30, init_func=init)\n",
        "\n",
        "#ani.save(f'plot{count}.gif')\n",
        "#plt.show()"
      ],
      "execution_count": null,
      "outputs": []
    },
    {
      "cell_type": "markdown",
      "metadata": {
        "id": "yCNQfcIKckFr",
        "colab_type": "text"
      },
      "source": [
        "Com isso, temos, O Pêndulo:"
      ]
    },
    {
      "cell_type": "markdown",
      "metadata": {
        "id": "b5iwkMHTckFs",
        "colab_type": "text"
      },
      "source": [
        "![Plot4](https://media.giphy.com/media/8P07KFykUVOqjzmZDi/giphy.gif)"
      ]
    },
    {
      "cell_type": "markdown",
      "metadata": {
        "id": "heMlF3mdckFs",
        "colab_type": "text"
      },
      "source": [
        "Somente as masssas na extremidade do segundo pêndulo:"
      ]
    },
    {
      "cell_type": "markdown",
      "metadata": {
        "id": "iiJzwkRGckFs",
        "colab_type": "text"
      },
      "source": [
        "![Plot5](https://media.giphy.com/media/1teLgoQo4H6RHuhn1l/giphy.gif)"
      ]
    },
    {
      "cell_type": "markdown",
      "metadata": {
        "id": "tBNWsL8mckFt",
        "colab_type": "text"
      },
      "source": [
        "Somente as massas do primeiro e segundo pêndulo:"
      ]
    },
    {
      "cell_type": "markdown",
      "metadata": {
        "id": "OEDjlZDWckFt",
        "colab_type": "text"
      },
      "source": [
        "![Plot6](https://media.giphy.com/media/x2MWal58Inx7BuasgT/giphy.gif)"
      ]
    },
    {
      "cell_type": "markdown",
      "metadata": {
        "id": "oZObqkgse2br",
        "colab_type": "text"
      },
      "source": [
        "Perceba que mesmo os pêndulos partindo de condições iniciais muito próximas ( e sendo regidos pelas mesmas equações), após algumas iterações, o comportamento deles já té total mente diferente, indistingível. Consequência da não linearidade do problema!"
      ]
    }
  ]
}