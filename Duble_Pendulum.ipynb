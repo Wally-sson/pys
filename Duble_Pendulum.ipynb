{
  "cells": [
    {
      "cell_type": "markdown",
      "metadata": {},
      "source": [
        "# O Problema do Caxeiro Viajante"
      ]
    },
    {
      "cell_type": "markdown",
      "metadata": {},
      "source": [
        "* PET - Física\n",
        "* Petiano: Wallysson Pereira da Silva\n",
        "* Data: 02/05/2025"
      ]
    },
    {
      "cell_type": "markdown",
      "metadata": {},
      "source": [
        "$\\quad$ O presente `Notebook` tem como objetivo introduzir o Problema do Caxeiro Viajante (TSP - Travelling Salesman Problem), junto com a apresentação de 3 método diferentes para a resolução do mesmo, sendo eles: O Método do Vizinho Mais Proximo (Nearest Neighbor), o método Simulated Annealing e o método Self-Organizing Maps. Por sua própria natureza como um problema de otimização, o Problema do Caxeiro Viajante acaba tendo uma relação bem direta com a física, sobretude no contexto do desenvolvimentos dos seus métodos de solução. O `Notebook` será dividido da seguinte forma:"
      ]
    },
    {
      "cell_type": "markdown",
      "metadata": {},
      "source": [
        "1. Introdução\n",
        "2. Métodos de Solução\n",
        "    - 2.1  Nearest Neighbor\n",
        "    - 2.2 Simulated Anneling\n",
        "    - 2.3 Self-Orgazing Maps\n",
        "5. Conclusão"
      ]
    },
    {
      "cell_type": "markdown",
      "metadata": {},
      "source": [
        "## Pré-requisitos"
      ]
    },
    {
      "cell_type": "markdown",
      "metadata": {},
      "source": [
        "$\\quad$ Para acompanhar o desenvolver dos códigos presentes neste `Notebook`, é necessário apenas um breve conhecimento de programação. Mesmo no caso do Simulated Annealing e Self-Organizing Maps que exigem uma sofisticação maior, pode-se ter uma intuição geral apenas observando o código e suas explicações. "
      ]
    },
    {
      "cell_type": "markdown",
      "metadata": {},
      "source": [
        "## Importando bibliotecas"
      ]
    },
    {
      "cell_type": "code",
      "execution_count": null,
      "metadata": {},
      "outputs": [],
      "source": [
        "import numpy as np # Processsos gerais.\n",
        "import matplotlib.pyplot as plt # Plots.\n",
        "from random import random, randrange # Simular comportamentos aleatórios.\n",
        "import matplotlib.animation as animation # Utilizada na animação."
      ]
    },
    {
      "cell_type": "markdown",
      "metadata": {},
      "source": [
        "## Informações sobre as bibliotecas"
      ]
    },
    {
      "cell_type": "code",
      "execution_count": null,
      "metadata": {},
      "outputs": [],
      "source": [
        "%load_ext version_information\n",
        "%version_information Matplotlib, Numpy"
      ]
    },
    {
      "cell_type": "markdown",
      "metadata": {},
      "source": [
        "## 1. Introdução"
      ]
    },
    {
      "cell_type": "markdown",
      "metadata": {},
      "source": [
        "$\\quad$ O enunciado do Problema do Caxeiro Viajente é bem simples: dado um conjunto de cidades (normalmente num plano), qual é a trajetória de menor distância entre as cidades, de forma que cada cidade seja visitada uma única vez? Pense que uma cidade está sendo adotada como marco zero, de onde, a partir dela, sairemos em uma viagem, passando por todas as outras cidades uma única vez, e no fim retornando para essa cidade inicial. Um enunciado aparentemente simples, mas que esconde uma complexidade de solução inacreditável. Classificado como NP-hard, o número de sequências de soluções possíveis cresce exponencialmente com o número de cidades."
      ]
    },
    {
      "cell_type": "markdown",
      "metadata": {},
      "source": [
        "$\\quad$ O Problema do Caxeiro Viajante é um clássico problema de otimização da matemática, sendo altamente aplicável no setor de logística. Além disso, os seus métodos de solução acabam sendo influenciados pela física. Durante esse `Notebook`, veremos 3 métodos diferentes de solução para esse problema. Para tal, vamos definir uma configuração inicial de cidades, geradas aleatoriamente num plano."
      ]
    },
    {
      "cell_type": "code",
      "execution_count": null,
      "metadata": {},
      "outputs": [],
      "source": [
        "N = 40 # Número de cidades.\n",
        "L = 100 # Largura do plano considerado.\n",
        "\n",
        "np.random.seed(10)  # Para reprodutibilidade.\n",
        "cidades = np.random.rand(N+1, 2) * L  # Coordenadas entre 0 e 100.\n",
        "cidades[N] = cidades[0] # A última cidade do vetor é a cidade inicial."
      ]
    },
    {
      "cell_type": "markdown",
      "metadata": {},
      "source": [
        "## 2.  Métodos de Solução"
      ]
    },
    {
      "cell_type": "markdown",
      "metadata": {},
      "source": [
        "## 2.1 Nearest Neighbor"
      ]
    },
    {
      "cell_type": "markdown",
      "metadata": {},
      "source": [
        "$\\quad$ Iniciaremos com um método bem óbvio para a resolução desse problema, que naturalmente terá uma eficiência limitada. A lógica do método do Vizinho mais Próximo é simples: escolhemos uma cidade para sair (no nosso caso, adotaremos a cidade inicial do vetor), onde a partir dela calculamos qual cidade é a sua vizinha mais próxima, escolhendo tal cidade como nosso próximo destino. Chegando nessa nova cidade, repetimos o processo. À medida que vamos caminhando, excluiremos as cidades já visitadas do conjunto de cidades possíveis, do contrário ficaríamos indo e voltando ente duas cidades. Assim, definimos a função:"
      ]
    },
    {
      "cell_type": "code",
      "execution_count": null,
      "metadata": {},
      "outputs": [],
      "source": [
        "def nearest_neighbor(cidades_NN):\n",
        "    n = cidades_NN.shape[0] # Número de cidades... N + 1, contando a cidade inicial duas vezes.\n",
        "    visitados = [0]  # Começamos na cidade 0.\n",
        "    total_distance = 0.0 # Variável para armazenar a distância total no caminho.\n",
        "\n",
        "    quadros_NN = [visitados.copy()] # Lista que armazenará passos da solução, depois sendo utilizada para gerar um gif.\n",
        "    while len(visitados) < n: # Rodar enquanto o tamanho do vetor visitados for menor do que o número total de cidades\n",
        "        cidade_atual = visitados[-1] # Cidade atual do looping é sempre a última do vetor, que foi sempre adicionada no passo anterior do looping.\n",
        "        não_visitados = [i for i in range(n) if i not in visitados] # Vetor dos índices da cidades ainda não visitadas.\n",
        "        distancias = [np.linalg.norm(cidades_NN[cidade_atual] - cidades_NN[i]) for i in não_visitados] # Vetor com as distancias entre a cidade atual e todas as outras possíveis.\n",
        "        nearest = não_visitados[np.argmin(distancias)] # Indice da cidade que tem a menor distancia.\n",
        "        visitados.append(nearest) # Adicionar o índice da menor cidade às cidades visitadas.\n",
        "        total_distance += min(distancias) # Soma à distância total o percurso até a próxima cidade. \n",
        "        quadros_NN.append(visitados.copy()) # Adicionar o atual estado do vetor com os índices à um outro vetor, que depois será utilizado para fazer uma animação.\n",
        "    \n",
        "    total_distance += np.linalg.norm(cidades_NN[visitados[-1]] - cidades_NN[visitados[0]])\n",
        "    visitados.append(visitados[0]) # Voltar à cidade inicial\n",
        "    quadros_NN.append(visitados.copy())\n",
        "\n",
        "    return visitados, total_distance, quadros_NN"
      ]
    },
    {
      "cell_type": "markdown",
      "metadata": {},
      "source": [
        "$\\quad$ Resolvendo o problema, considerando a disposição inicial de cidades que definimos ainda na introdução."
      ]
    },
    {
      "cell_type": "code",
      "execution_count": null,
      "metadata": {},
      "outputs": [],
      "source": [
        "cidades_NN = cidades.copy()\n",
        "ordem_visita, distancia_total_NN, quadros_NN = nearest_neighbor(cidades_NN)"
      ]
    },
    {
      "cell_type": "markdown",
      "metadata": {},
      "source": [
        "$\\quad$ Plotando a solução"
      ]
    },
    {
      "cell_type": "code",
      "execution_count": null,
      "metadata": {},
      "outputs": [],
      "source": [
        "print(\"Ordem das cidades visitadas:\", ordem_visita)\n",
        "print(f\"Distância total percorrida: {distancia_total_NN:.2f}\")\n",
        "\n",
        "# Plotar o caminho\n",
        "plt.figure(figsize=(8, 6))\n",
        "plt.plot(cidades_NN[ordem_visita, 0], cidades_NN[ordem_visita, 1], 'o-', color='blue') # Plotar cada caminho entre as cidades vizinhas, seguindo a ordem descrita pela variável ordem_visita.\n",
        "plt.plot(cidades_NN[ordem_visita, 0], cidades_NN[ordem_visita, 1], 'o', color='red')\n",
        "plt.title('Caminho do Caixeiro Viajante (Nearest Neighbor)')\n",
        "plt.axis('off')\n",
        "plt.show()"
      ]
    },
    {
      "cell_type": "markdown",
      "metadata": {},
      "source": [
        "$\\quad$ O seguinte código gera um gif da evolução temporal da trajetória."
      ]
    },
    {
      "cell_type": "code",
      "execution_count": null,
      "metadata": {},
      "outputs": [],
      "source": [
        "fig, ax = plt.subplots(figsize=(8,8))\n",
        "\n",
        "def atualizar_SA(i): # Função que definide cada quadro i da animação.\n",
        "    ax.clear()\n",
        "    ax.axis('off')\n",
        "    ax.plot(cidades_NN[quadros_NN[i], 0], cidades_NN[quadros_NN[i], 1], 'o-', color='blue')\n",
        "    ax.plot(cidades_NN[quadros_NN[-1], 0], cidades_NN[quadros_NN[-1], 1], 'o', color='red')\n",
        "    ax.set_xlim(0, L)\n",
        "    ax.set_ylim(0, L)\n",
        "    ax.set_title(f'Progresso {(i/len(quadros_NN)*100):.0f}%')\n",
        "    ax.grid(True)\n",
        "\n",
        "ani = animation.FuncAnimation(fig, atualizar_SA, np.arange(len(quadros_NN)), interval=150)\n",
        "plt.close(fig)\n",
        "ani.save('Nearest_Neighbor.gif', writer='pillow', dpi=80)"
      ]
    },
    {
      "cell_type": "markdown",
      "metadata": {},
      "source": [
        "![nearest_neighbor](https://media4.giphy.com/media/v1.Y2lkPTc5MGI3NjExZ3BjZnAwdzYzaHd6bzFrZ2tkMnU4YWZ3YWdweGsxeGMwMmsycWljbiZlcD12MV9pbnRlcm5hbF9naWZfYnlfaWQmY3Q9Zw/PdLgFfkAEpukvhzprM/giphy.gif)"
      ]
    },
    {
      "cell_type": "markdown",
      "metadata": {},
      "source": [
        "## 2.2 Simulated Annealling\n"
      ]
    },
    {
      "cell_type": "markdown",
      "metadata": {},
      "source": [
        "$\\quad$ Proposto por Scott Kirkpatrick em 1985, o método Simulated Annealing tem sua base na física estatística. O primeiro passo no método Simulated Annealing é estabelecer uma trajetória inicial, que no nosso caso será: sair do elemento **r[0]**, passar pelo elemento **r[1]**, depois pelo **r[2]**, até o elemento **r[N-1]** (que será novamente a cidade inicial). Tal caminho terá uma distância total percorrida associada. Após calcular e armazenar essa distância, nós realizaremos uma comutação entre dois elementos aleatórios do vetor de cidades, cujo alteração resultará numa nova distância total percorrida. Nesse ponto, realizaremos uma condicional, onde: caso a nova distância seja menor, aceitaremos ela imediatamente; caso a nova distãncia seja maior, nós aceitaremos ela com a probabilidade de Boltzzman"
      ]
    },
    {
      "cell_type": "markdown",
      "metadata": {},
      "source": [
        "$$P(\\Delta D) = e^{\\frac{-\\Delta D}{T}}, \\tag{1}$$"
      ]
    },
    {
      "cell_type": "markdown",
      "metadata": {},
      "source": [
        "onde $\\Delta D$ é a diferença entre o tamanho da trajetória nova e a anteior. Essa última condição nos dá uma maior probabilidade de escapar de mínimos locais, o que poderia não acontecer caso sempre rejeitássemos trajetórias que aumentam a distãncia total. O $T$ na equação **(1)** representa o temperatura atual do sistema. É certo que não estamos falando de temperatura no sentido físico, mas sim numa forma generalizada.   "
      ]
    },
    {
      "cell_type": "markdown",
      "metadata": {},
      "source": [
        "$\\quad$ Essa temperatura tem um papel bem importante na convergência do método. Podemos observar na equação **(1)** que quanto maior o valor de $T$, maior será a probabilidade de aceitação de um estado com maior energia (pode-se pensar que o sistema está \"agitado\"). Assim, se a temperatura for mantida num valor consideravelmente alto, o sistema oscilará bastante, não convergindo nunca. Do contrário, se a temperatur $T$ for baixa, a probabilidade de aceitação de um estado com maior energia será quase nula, configurando um sistema estável. A estratégia do Simulated Annealing é iniciar o sistema com uma temperatura consideravelmente alta e ir diminuindo-a constantemente, de tal forma que o sistema convergirá para um mínimo (global ou mesmo local, já que o método não garante uma convergência absoluta) de energia. Na implementação do código, utilizaremos um decaimento exponencial da temperatura, de tal forma que  "
      ]
    },
    {
      "cell_type": "markdown",
      "metadata": {},
      "source": [
        "$$ T = T_0e^{-\\frac{t}{\\tau}},$$"
      ]
    },
    {
      "cell_type": "markdown",
      "metadata": {},
      "source": [
        "onde $T_0$ é a temperatura inicial e $\\tau$ um parâmetro que controla a velocidade de decaimento. Quanto maior o valor de $\\tau$, mais lentamente a temperatura diminuirá."
      ]
    },
    {
      "cell_type": "markdown",
      "metadata": {},
      "source": [
        "$\\quad$ Para cada para de cidades, teremos que calcular a distância euclidiana entre elas. Assim, vamos definir uma função que calcula essa distância entre duas cidades. Juntamente, definiremos uma função que, dado o vetor com todas as cidades, calcula a distância total seguindo o caminho anteriomente definido (seguindo a ordem natural de organização do vetor)."
      ]
    },
    {
      "cell_type": "code",
      "execution_count": null,
      "metadata": {},
      "outputs": [],
      "source": [
        "def mag(x):\n",
        "    return np.sqrt(x[0]**2+x[1]**2) # Distancia euclidiana.\n",
        "\n",
        "def distance(r): # Função para calcular a distância, dado um possível caminho entre as cidades.\n",
        "    s = 0.0\n",
        "    for i in range(N):\n",
        "        dist = r[i+1]-r[i]\n",
        "        s+=mag(dist)\n",
        "    return(s)"
      ]
    },
    {
      "cell_type": "markdown",
      "metadata": {},
      "source": [
        "$\\quad$ Assim já podemos definir o corpo do código em si: a função que vai receber o vetor com a trajetória inicial, e retornar uma trajetória otimizada.\n"
      ]
    },
    {
      "cell_type": "code",
      "execution_count": null,
      "metadata": {},
      "outputs": [],
      "source": [
        "def evoluir(cidades_SA, N, Tmin, tau):\n",
        "    Tmax = 10.0 # Temperatura inicial\n",
        "\n",
        "    t = 0 # Tempo inicial\n",
        "    T = Tmax\n",
        "    quadros_SA = [cidades_SA.copy()] # Quadros para o gif desse método.\n",
        "    distancias = [distance(cidades_SA)] # Vetor com as distâncias em cada evolução. \n",
        "    \n",
        "    D = distance(cidades_SA)\n",
        "    o = 0\n",
        "    while(T>Tmin):\n",
        "        t+=1 # Incremento de tempo.\n",
        "        T = Tmax*np.exp(-t/tau) # Atualização do valor da temperatura.\n",
        "\n",
        "        c1, c2 = randrange(1,N),randrange(1,N) # Realizar a comultação entre 2 elementos.\n",
        "        cidades_SA[[c1, c2]] = cidades_SA[[c2, c1]]\n",
        "        Dnew = distance(cidades_SA) \n",
        "        dDist = Dnew-D # Variação da distância.\n",
        "        if (random()<np.exp(-dDist/T)): # Condicional com a probabilidade de Boltzmann.\n",
        "            D = Dnew \n",
        "            if o%50 == 0: # Armazenar apenas alguns quadros.\n",
        "                quadros_SA.append(cidades_SA.copy())\n",
        "        else:\n",
        "            cidades_SA[[c1, c2]] = cidades_SA[[c2, c1]] # Caso a mudança não seja aceita, desfazemos a troca.\n",
        "        \n",
        "        distancias.append(D)    \n",
        "        o+=1\n",
        "        \n",
        "    return cidades_SA, quadros_SA, distancias"
      ]
    },
    {
      "cell_type": "markdown",
      "metadata": {},
      "source": [
        "$\\quad$ Definida a função, podemos fornecer a condição inicial anteriormente definida e obter o caminho otimizado, passando como argumento os devidos parâmetros."
      ]
    },
    {
      "cell_type": "code",
      "execution_count": null,
      "metadata": {},
      "outputs": [],
      "source": [
        "cidades_SA = cidades.copy()\n",
        "\n",
        "cidades_SA, quadros_SA, distancias_SA = evoluir(cidades_SA, N, 1, 0.4*1e5) # Otimizar a trajetória.\n",
        "distancia_total_SA = distancias_SA[-1] # A distância total na trajetória otimizada será o último elemento (mais atualizado) desse array."
      ]
    },
    {
      "cell_type": "markdown",
      "metadata": {},
      "source": [
        "$\\quad$ Print da trajetória inicial (aleatoria) e a final (depois da otimização), junto com um gráfico da convergência do método:"
      ]
    },
    {
      "cell_type": "code",
      "execution_count": null,
      "metadata": {},
      "outputs": [],
      "source": [
        "fig, axes = plt.subplots(1, 3, figsize=(25, 4)) \n",
        "\n",
        "rotas = [quadros_SA[0], quadros_SA[-1]]\n",
        "titulos = [\"Rota inicial\", \"Rota final\"]\n",
        "\n",
        "for idx, rota in enumerate(rotas):\n",
        "    for i in range(N):\n",
        "        x1, y1 = rota[i]\n",
        "        x2, y2 = rota[(i + 1) % N]  # conecta com o próximo, fecha o ciclo\n",
        "        axes[idx].plot([x1, x2], [y1, y2], 'bo-')\n",
        "        axes[idx].plot(x1, y1, f'C{i + 1}')\n",
        "    axes[idx].grid(True)\n",
        "    axes[idx].set_title(titulos[idx])\n",
        "\n",
        "axes[2].plot(distancias_SA)\n",
        "axes[2].set_xlabel(\"Evolução Temporal\")\n",
        "axes[2].set_ylabel(\"Distância\")\n",
        "axes[2].set_title(\"Distância total da rota em função dos passos\")"
      ]
    },
    {
      "cell_type": "markdown",
      "metadata": {},
      "source": [
        "$\\quad$ O seguinte código é dedicado apenas à definição de uma animação, onde podemos analisar visualmente a convergência da trajetória."
      ]
    },
    {
      "cell_type": "code",
      "execution_count": null,
      "metadata": {},
      "outputs": [],
      "source": [
        "fig, ax = plt.subplots(figsize=(8,8))\n",
        "\n",
        "def atualizar_SA(i):\n",
        "    ax.clear()\n",
        "    ax.axis('off')\n",
        "    cidades_quadro = quadros_SA[i]\n",
        "    ax.plot(cidades_quadro[:, 0], cidades_quadro[:, 1], 'o-', color = 'blue', label='Caminho')\n",
        "    ax.plot(cidades_quadro[:, 0], cidades_quadro[:, 1], 'o', color='red' , label='Cidades')\n",
        "    ax.set_xlim(0, L)\n",
        "    ax.set_ylim(0, L)\n",
        "    ax.set_title(f'Progresso {(i/len(quadros_SA)*100):.0f}%')\n",
        "    ax.legend()\n",
        "    ax.grid(True)\n",
        "\n",
        "ani = animation.FuncAnimation(fig, atualizar_SA, np.arange(len(quadros_SA)), interval=10)\n",
        "plt.close(fig)\n",
        "ani.save('cuscus.gif', writer='pillow', dpi=80)"
      ]
    },
    {
      "cell_type": "markdown",
      "metadata": {},
      "source": [
        "![simulated_annealing](https://media1.giphy.com/media/v1.Y2lkPTc5MGI3NjExbno3YXZwbnJwdm5yNGllcXV1NzQzYzYzend0YWlmYTM0YzkzdDZvdiZlcD12MV9pbnRlcm5hbF9naWZfYnlfaWQmY3Q9Zw/k11IO6FLKxHoachMyS/giphy.gif)"
      ]
    },
    {
      "cell_type": "markdown",
      "metadata": {},
      "source": [
        "$\\quad$ O Simulated Annealing é um método de melhora de trajetória. Isso significa que, quanto melhor a trajetória inicial, a tendência é ou uma convergência mais rápida ou/e um output melhor no final dos passos. Assim, caso quisessemos melhorar a velocidade de convergência ou a acurária do Simulated Annealing aplicado ao PCV, poderíamos primeiro utilizar o método do Vizinho Mais Próximo (que tem custo computacional extremamente baixo) fornecer um caminho inicial mais otimizado do que quando o tomamemos de maneira aleatória."
      ]
    },
    {
      "cell_type": "markdown",
      "metadata": {},
      "source": [
        "## Self-Organizing Maps"
      ]
    },
    {
      "cell_type": "markdown",
      "metadata": {},
      "source": [
        "$\\quad$ O terceiro e último método é de uma sofisticação considerável, justamente por ser baseada em técnicas de apredizado não supervisionado. Tendo sido proposto inicialmente nos anos 80, o método Self-Organizing Maps pode ser definido como um conjunto de neuronios, que, iniciados numa dada disposição, vão aos poucos convergindo às posições das cidades. A convergência se baseia em: similaridade e influência entre os neuronios. O primeiro ponto, de similaridade, faz com que um neurônio tenda a convergir para cidade mais próxima dele, e não para qualquer outra cidade arbitrária mais distante. O segundo ponto, de influência entre os neurônios, causa uma interação que, além do neurônio vencedor convergir para uma dada cidade, ele também influenciará diretamente a convergência de neuronios próximos, dentro de um raio efetivo de interação. Para garantir a convergência do método, esse raio de interação vai diminuindo com o tempo. (Para mais informações sobre o método, recomenda-se a leitura da referência **[2]**)."
      ]
    },
    {
      "cell_type": "markdown",
      "metadata": {},
      "source": [
        "$\\quad$ Definindo as constantes do método, junto com a disposição inicial dos neuronios:"
      ]
    },
    {
      "cell_type": "code",
      "execution_count": null,
      "metadata": {},
      "outputs": [],
      "source": [
        "cidades_SOM = cidades.copy()\n",
        "num_neuronios = 10 * N  # Mais neurônios do que cidades.\n",
        "num_epocas = 2000 \n",
        "alpha_inicial = 0.8 # Taxa de aprendizado inicial.\n",
        "raio_inicial = num_neuronios // 2 # Raio de interação???\n",
        "decaimento_constante = num_epocas / np.log(raio_inicial) # Parâmetro para o decaimento do raio.\n",
        "\n",
        "# Inicializar neurônios em um círculo\n",
        "theta = np.linspace(0, 2*np.pi, num_neuronios, endpoint=False)\n",
        "neuronios = np.column_stack((L*np.cos(theta), L*np.sin(theta))) * 0.5 + L//2  # Inicializa os neuronios num círculo\n",
        "\n",
        "# Função de distância euclidiana\n",
        "def distancia(a, b):\n",
        "    return np.linalg.norm(a - b, axis=1)"
      ]
    },
    {
      "cell_type": "markdown",
      "metadata": {},
      "source": [
        "$\\quad$ Definindo o corpo principal do código:"
      ]
    },
    {
      "cell_type": "code",
      "execution_count": null,
      "metadata": {},
      "outputs": [],
      "source": [
        "quadros_SOM = [neuronios.copy()] # Para armazenar os quadros em cada tempo.\n",
        "# Treinamento SOM\n",
        "for epoca in range(num_epocas):\n",
        "    cidade_idx = np.random.randint(N) # Sorteia um índice para uma cidade.\n",
        "    cidade = cidades_SOM[cidade_idx] # Cidade equivalente ao índice sorteado.\n",
        " \n",
        "    # Encontrar neurônio vencedor\n",
        "    distancias = distancia(neuronios, cidade) # Vetor com a distância entre cada neuronio e a cidade sorteada.\n",
        "    vencedor_idx = np.argmin(distancias) # O neurônio vencedor será aquele de menor distância.\n",
        "\n",
        "    # Decaimento dos parâmetros\n",
        "    alpha = alpha_inicial * np.exp(-epoca / num_epocas) # Diminuir a taxa de aprendizado.\n",
        "    raio = raio_inicial * np.exp(-epoca / decaimento_constante) # Diminuir o raio de influência.\n",
        "\n",
        "    # Atualizar a posição dos neurônios.\n",
        "    for i in range(num_neuronios):\n",
        "        # Distância circular entre os neurônios (SOM é um anel).\n",
        "        delta = min(abs(i - vencedor_idx), num_neuronios - abs(i - vencedor_idx))\n",
        "        if delta < raio:\n",
        "            influencia = np.exp(-delta**2 / (2 * (raio**2)))\n",
        "            neuronios[i] += alpha * influencia * (cidade - neuronios[i])\n",
        "    \n",
        "    # Para a animação.\n",
        "    if epoca % 10 == 0:  \n",
        "        quadros_SOM.append(neuronios.copy())\n"
      ]
    },
    {
      "cell_type": "markdown",
      "metadata": {},
      "source": [
        "$\\quad$ O caminho final (que minimiza a distância precorrida segundo o atual método) será obtida com base na disposição espacial final do"
      ]
    },
    {
      "cell_type": "code",
      "execution_count": null,
      "metadata": {},
      "outputs": [],
      "source": [
        "caminho = []\n",
        "for cidade in cidades:\n",
        "  dist = distancia(neuronios, cidade)\n",
        "  indice = np.argmin(dist)\n",
        "  caminho.append((indice,cidade))\n",
        "\n",
        "caminho.sort(key=lambda x: x[0])\n",
        "caminho = np.array([cidade for _, cidade in caminho])\n",
        "caminho = np.vstack([caminho, caminho[0]])\n",
        "\n",
        "distancia_total_SOM = distance(caminho)\n",
        "\n",
        "plt.figure(figsize=(8, 6))\n",
        "plt.plot(caminho[:, 0], caminho[:, 1], 'o-', label='Caminho')\n",
        "plt.plot(cidades[:, 0], cidades[:, 1], 'o', color='red', label='Cidades')\n",
        "plt.title('Caminho do Caixeiro Viajante (Self-Organizing Maps)')\n",
        "plt.legend()\n",
        "plt.axis('off')\n",
        "plt.show()"
      ]
    },
    {
      "cell_type": "markdown",
      "metadata": {},
      "source": [
        "$\\quad$ Animação da evolução temporal do método"
      ]
    },
    {
      "cell_type": "code",
      "execution_count": null,
      "metadata": {},
      "outputs": [],
      "source": [
        "fig, ax = plt.subplots(figsize=(8,8))\n",
        "\n",
        "def atualizar(frame_idx):\n",
        "    ax.clear()\n",
        "    ax.axis('off')\n",
        "    neuronios_frame = quadros_SOM[frame_idx]\n",
        "    ax.plot(neuronios_frame[:, 0], neuronios_frame[:, 1], 'o-', label='Neuronios')\n",
        "    ax.scatter(cidades[:, 0], cidades[:, 1], c='red', label='Cidades')\n",
        "    ax.set_xlim(0, L)\n",
        "    ax.set_ylim(0, L)\n",
        "    ax.set_title(f'Progresso {(frame_idx/len(quadros_SOM)*100):.0f}%')\n",
        "    ax.legend()\n",
        "    ax.grid(True)\n",
        "\n",
        "ani = animation.FuncAnimation(fig, atualizar, frames=len(quadros_SOM), interval=10)\n",
        "plt.close(fig)\n",
        "ani.save('Self_Organizing_Maps.gif', writer='pillow')"
      ]
    },
    {
      "cell_type": "markdown",
      "metadata": {},
      "source": [
        "![Plot3](https://media4.giphy.com/media/v1.Y2lkPTc5MGI3NjExdzh3azEwOHAzNWJ5ejdvcWI0bTlwOXVpeG53bHU4aTA3a3ltYmxzOSZlcD12MV9pbnRlcm5hbF9naWZfYnlfaWQmY3Q9Zw/JAXOl3WV6NLc0Kh5HB/giphy.gif)"
      ]
    },
    {
      "cell_type": "markdown",
      "metadata": {},
      "source": [
        "$\\quad$ O Self-Orgazing Maps acaba não sendo o mais eficiente no quesito de retornar a solução mais otimizada, mas o seu uso é extremamente prático e aconselhável para um problema com muitas cidades, podendo ser usado inclusive na escala de um país."
      ]
    },
    {
      "cell_type": "markdown",
      "metadata": {},
      "source": [
        "## Conclusão"
      ]
    },
    {
      "cell_type": "markdown",
      "metadata": {},
      "source": [
        "$\\quad$ Justamente por ser um problema NP-Hard, o Problema do Caxeiro viajante não tem solução analítica absoluta. Na maioria dos contextos, ter um método que aproxima o caminho ideal já tem uma grande utilizada. Vamos"
      ]
    },
    {
      "cell_type": "code",
      "execution_count": null,
      "metadata": {},
      "outputs": [],
      "source": [
        "print(\"Distância Total\")\n",
        "print(f'     Nearing Nea: {distancia_total_NN:.1f}', )\n",
        "print(f'     Simulated Annealing: {distancia_total_SA:.1f}', )\n",
        "print(f'     Self-Organizing Maps: {distancia_total_SOM:.1f}')"
      ]
    },
    {
      "cell_type": "markdown",
      "metadata": {},
      "source": [
        "## Referencias"
      ]
    },
    {
      "cell_type": "markdown",
      "metadata": {},
      "source": [
        "**[1]** *Mark Newman - Computational Physics (2013, University of Michigan)*\n",
        "\n",
        "**[2]** https://diego.codes/post/som-tsp/#fnref:1"
      ]
    }
  ],
  "metadata": {
    "colab": {
      "collapsed_sections": [],
      "name": "Duble_Pendulum.ipynb",
      "provenance": []
    },
    "kernelspec": {
      "display_name": "Python 3",
      "language": "python",
      "name": "python3"
    },
    "language_info": {
      "codemirror_mode": {
        "name": "ipython",
        "version": 3
      },
      "file_extension": ".py",
      "mimetype": "text/x-python",
      "name": "python",
      "nbconvert_exporter": "python",
      "pygments_lexer": "ipython3",
      "version": "3.13.0"
    }
  },
  "nbformat": 4,
  "nbformat_minor": 0
}
