{
 "cells": [
  {
   "cell_type": "markdown",
   "id": "4691265d-a275-4d8d-a8ca-8cf2d344a394",
   "metadata": {},
   "source": [
    "# **Um mergulho na Equação de Onda** \n",
    "\n",
    "* PET- Física\n",
    "* Petianos: Wallysson Pereira da Silva\n",
    "* Data: 22/11/2024\n",
    "\n",
    "O objetivo desse `Notebook` é fazer uma abordagem geral da **Equação de Onda**, expondo tanto uma de suas resoluções analíticas quanto sua resolução numérica (aqui se mostrando presente o uso de ferramentais numéricos). Tendo isso em vista, esse `Notebook` será divido nos seguintes tópicos:\n",
    "1. Introdução da Equação de Onda\n",
    "2. Resolução Analítica\n",
    "3. Resolução Numérica\n",
    "\n"
   ]
  },
  {
   "cell_type": "markdown",
   "id": "c140bf9b-a7f3-4fdf-a3f8-74d968ec730d",
   "metadata": {},
   "source": [
    "A primeira seção estará totalmente dedicada à apresentação da Equação de Onda, junto com uma rápida e superficial motivação sobre a mesma.\n",
    "\n",
    "Já na segunda seção, apesar de estar indexada como Resolução Analítica, iremos utilizar sua solução para ilustrar o comportamento da onda por meio de gráficos, fato que acredito que melhore signifivamente nosso entendimento sobre fenomenos oscilatórios.\n",
    "\n",
    "Por fim, na última parte desse `Notebook`, estaremos totalmente focados na resolução numérica da Equação de Onda, utilizando o método ()."
   ]
  },
  {
   "cell_type": "markdown",
   "id": "71e8a00f-fcb0-4c64-8e0e-5f2f33a4e9bd",
   "metadata": {},
   "source": [
    "### **Pré-requisitos**\n",
    "Para o total entendimento desse `Notebook`, é interessante que o leitor tenha conhecimentos básicos de programação (sobretudo em python), junto de uma pequena noção sobre derivadas (totais e parciais) de funções. No entanto, esse trabalho busca servir como uma base para quem está estudando a Equação de Onda, então a abordagem buscará ser bem elucidativa. "
   ]
  },
  {
   "cell_type": "markdown",
   "id": "fbf189f6-a566-4112-932d-e101a14b41fe",
   "metadata": {},
   "source": [
    "No entanto, tanto na abordagem analítica, quanto na numérica, conhecimento prévios sobre a Série de Fourier e a Transformada Discreta de Fourier são necessários para o melhor entendimento dos métodos."
   ]
  },
  {
   "cell_type": "markdown",
   "id": "470c57a5-f990-4559-a02b-2c5ee47fc3fa",
   "metadata": {},
   "source": [
    "### **Importando as bibliotecas**"
   ]
  },
  {
   "cell_type": "code",
   "execution_count": 44,
   "id": "768e4e10-8edd-4599-acef-8d5a21209bcf",
   "metadata": {},
   "outputs": [],
   "source": [
    "import numpy as np\n",
    "import matplotlib.pyplot as plt\n",
    "from math import exp, sin, cos, pi\n",
    "from numpy.fft import rfft, irfft"
   ]
  },
  {
   "cell_type": "markdown",
   "id": "d8b8edf6-4dfc-4551-af66-702daf7d9ba0",
   "metadata": {},
   "source": [
    "### **Informações sobre as bibliotecas**"
   ]
  },
  {
   "cell_type": "code",
   "execution_count": null,
   "id": "ad49a513-2746-45e9-afc2-8524a62bf51a",
   "metadata": {},
   "outputs": [],
   "source": []
  },
  {
   "cell_type": "markdown",
   "id": "359dfcc9-4605-4a42-bf93-d642ae3b7d06",
   "metadata": {},
   "source": [
    "## 1. Introdução"
   ]
  },
  {
   "cell_type": "markdown",
   "id": "d1ba6c5e-411a-4b6a-aa42-1714e5299386",
   "metadata": {},
   "source": [
    "O estudo da Equação de Ondas é de suma importância para a física, justamente porque ela pode vir a convernar tanto a propagação de uma onda sonora (mecânica), quanto de uma onda eletromagnética. Assim, a sua se torna extremamente importante. \n",
    "A Equação de Onda  tem a seguinte forma: "
   ]
  },
  {
   "cell_type": "markdown",
   "id": "39bf8059-263f-473e-a8e6-d5041ca97c52",
   "metadata": {},
   "source": [
    "$$ \\frac{\\partial^2 u(x,t)}{\\partial x^2}  - \\frac{1}{v^2} \\frac{\\partial^2 u(x,t)}{\\partial t^2} = 0$$"
   ]
  },
  {
   "cell_type": "markdown",
   "id": "13b84e23-88e5-4259-b6bc-0cbd0204ccbf",
   "metadata": {},
   "source": [
    "Ou, equivalentemente: "
   ]
  },
  {
   "cell_type": "markdown",
   "id": "f8eda872-f36d-4479-812b-49262acd871b",
   "metadata": {},
   "source": [
    "$$ \\frac{\\partial^2 u(x,t)}{\\partial t^2} =  v^2 \\frac{\\partial^2 u(x,t)}{\\partial x^2}$$"
   ]
  },
  {
   "cell_type": "markdown",
   "id": "c70e8c29-9c64-4bdd-82dc-633fe1e126f4",
   "metadata": {},
   "source": [
    "Podemos pensar basicamente que a função $u(x,t)$ nos retorna o valor da amplitude de oscilação em função da sua posição $x$ (no caso unidimensional) e do tempo $t$. O fator $v$ é a velocidade de propagação da onda."
   ]
  },
  {
   "cell_type": "code",
   "execution_count": null,
   "id": "47e1d132-2e24-40df-96a9-c8435d3bb567",
   "metadata": {},
   "outputs": [],
   "source": []
  },
  {
   "cell_type": "code",
   "execution_count": null,
   "id": "db4e87a7-f830-4b21-a455-8731df6a5b1b",
   "metadata": {},
   "outputs": [],
   "source": []
  },
  {
   "cell_type": "code",
   "execution_count": null,
   "id": "7d5f922d-53fb-4326-abf5-15c24cb94f19",
   "metadata": {},
   "outputs": [],
   "source": []
  },
  {
   "cell_type": "code",
   "execution_count": null,
   "id": "3209acd5-b8b6-4f8b-8038-af8234e00740",
   "metadata": {},
   "outputs": [],
   "source": []
  },
  {
   "cell_type": "markdown",
   "id": "fd78cbc8-9af4-4ecb-9094-297473520a87",
   "metadata": {},
   "source": [
    "### 2. **Resolução Analítica - Método de Separação de Variáveis**"
   ]
  },
  {
   "cell_type": "markdown",
   "id": "d6d4b535-074c-4774-adf7-3072a887a1fe",
   "metadata": {},
   "source": [
    "Pessoalmente acredito que o acompanhamento da resolução analítica é muito importante para o entendimento da Equação de Onda. Dito isso, estarei a segui demonstrando a resolução analítica da Equação de Onda através do Método de Separação de Variáveis."
   ]
  },
  {
   "cell_type": "markdown",
   "id": "5d13bd1e-a4c2-4441-acd1-8ea428fcf047",
   "metadata": {},
   "source": [
    "Para a resolução, iremos considerar um caso em especial, onde, depois de fixar as extremidades de uma corda em, puxamos a corda até uma determinada amplitude. Nesse caso, chamado de **corda elástica com deslocamento inicial não-nulo**, teremos que a velocidade de cada ponto em $t=0$ será nula. Fazendo um resumo das consições tanto de contorno quanto iniciais:"
   ]
  },
  {
   "cell_type": "markdown",
   "id": "c5fba832-f212-4278-b1a8-7594b21af273",
   "metadata": {},
   "source": [
    "Condições de contorno:"
   ]
  },
  {
   "cell_type": "markdown",
   "id": "eae25324-0e4a-4f60-8080-de57fbf8d4c5",
   "metadata": {},
   "source": [
    "$$u(0,t) = u(L,t) = 0 $$"
   ]
  },
  {
   "cell_type": "markdown",
   "id": "7540bbb1-ff51-474b-9924-9257f44d4b00",
   "metadata": {},
   "source": [
    "Consição inicial:"
   ]
  },
  {
   "cell_type": "markdown",
   "id": "db320849-51e2-4bf0-83f3-80dc8e80e9d0",
   "metadata": {},
   "source": [
    "$$u(x,0) = f(x)  \\text{ e } \\frac{\\partial u(x,0)}{\\partial t} = 0 $$ "
   ]
  },
  {
   "cell_type": "markdown",
   "id": "7d4977b9-c37d-4ee3-899d-84a15fe7f98f",
   "metadata": {},
   "source": [
    "Na primeira condição inicial, teremos que o deslocamento inicial de cada ponto da corda será dada pelo valor da função $f(x)$ nesse dado ponto $x$."
   ]
  },
  {
   "cell_type": "markdown",
   "id": "3ba66ecb-86a3-4776-89be-7cb3cb08485f",
   "metadata": {},
   "source": [
    "O resultado da EDP (Equação Diferencial Parcial) apresentada é uma função $u(x,t)$, ou seja, uma função de duas variáveis independentes. No presente método, estaremos supondo que $u(x,t)$ pode ser escrita como a **multiplicação** de duas funções, uma dependente da variável $x$ e outra somente dependente da variável $t$. Assim:"
   ]
  },
  {
   "cell_type": "markdown",
   "id": "17f8fa05-9aeb-4871-a1e1-b2d580dab680",
   "metadata": {},
   "source": [
    "$$u(x,t) = X(x)\\cdot T(t)$$"
   ]
  },
  {
   "cell_type": "markdown",
   "id": "439f7682-68a7-4d5a-b6b5-368b5655baf9",
   "metadata": {},
   "source": [
    "Com essa condição imposta, vamos agora basicamente só obter os termos $\\frac{\\partial^2 u(x,t)}{\\partial x^2}$ e $\\frac{\\partial^2 u(x,t)}{\\partial t^2}$ e substituir na Equação e Onda."
   ]
  },
  {
   "cell_type": "markdown",
   "id": "22ac800a-10da-4926-89a7-20d3624b0ff2",
   "metadata": {},
   "source": [
    "Para o termo espacial:"
   ]
  },
  {
   "cell_type": "markdown",
   "id": "4c97f8df-05d1-4cce-82fa-337010b4dfb7",
   "metadata": {},
   "source": [
    "$$\\frac{\\partial^2 u(x,t)}{\\partial t^2} = \\frac{\\partial^2 [X(x)\\cdot T(t)]}{\\partial t^2}$$"
   ]
  },
  {
   "cell_type": "markdown",
   "id": "5f4b9c22-6166-45a1-bf0b-85b88f983d1f",
   "metadata": {},
   "source": [
    "Mas, considerando que estamos derivando em função do tempo, teremos que $X(x)$ pode ser tratado como uma constante. Daí segue:"
   ]
  },
  {
   "cell_type": "markdown",
   "id": "8e562e02-fbdb-4853-a2fd-28ed87744d36",
   "metadata": {},
   "source": [
    "$$\\frac{\\partial^2 u(x,t)}{\\partial t^2} = X(x)\\frac{\\partial^2 T(t)}{\\partial t^2}        $$"
   ]
  },
  {
   "cell_type": "markdown",
   "id": "4912948a-ffe0-4df5-aa56-4d554bb7a107",
   "metadata": {},
   "source": [
    "Contudo, como a função restante na derivada temporal só é função unica e exclusivamente da variável $t$, a derivada parcial se torna então uma derivada total:"
   ]
  },
  {
   "cell_type": "markdown",
   "id": "7d9d26a8-1173-4b53-8ea3-365b5a79819a",
   "metadata": {},
   "source": [
    "$$\\frac{\\partial^2 u(x,t)}{\\partial t^2} = X(x) \\frac{d^2 T(t)}{dt^2} = X(x) T^{\\prime\\prime}(t)  $$"
   ]
  },
  {
   "cell_type": "markdown",
   "id": "52ceb727-2998-47b6-8468-0e98ec71c3e2",
   "metadata": {},
   "source": [
    "Com um raciocíno análogo, obtemos o termo equivalente para a termo espacial:"
   ]
  },
  {
   "cell_type": "markdown",
   "id": "cd8dd855-8a72-4bee-9741-65d19abb6e3f",
   "metadata": {},
   "source": [
    "$$\\frac{\\partial^2 u(x,t)}{\\partial x^2} = \\frac{\\partial^2 [X(x) \\cdot T(t)]}{\\partial x^2} = T(t) \\frac{\\partial^2 X(x)}{\\partial x^2} = T(t) \\frac{d^2 X(x)}{dx^2} = T(t) X^{\\prime \\prime}(x)$$"
   ]
  },
  {
   "cell_type": "markdown",
   "id": "b3a47418-a96c-499b-b9b2-cf0cdb16f82f",
   "metadata": {},
   "source": [
    "Vamos basicamente substituir as expressões obtidas na Equação de Onda, obtendo:"
   ]
  },
  {
   "cell_type": "markdown",
   "id": "7ea2b847-d4d8-42c6-b118-042f5985bc5f",
   "metadata": {},
   "source": [
    "$$ \\frac{\\partial^2 u(x,t)}{\\partial t^2} =  v^2 \\frac{\\partial^2 u(x,t)}{\\partial x^2} \\rightarrow X(x) T^{\\prime\\prime}(t) = v^2 T(t) X^{\\prime \\prime}(x)$$"
   ]
  },
  {
   "cell_type": "markdown",
   "id": "027eae85-8747-49dc-b46a-142e0b9caf4a",
   "metadata": {},
   "source": [
    "Agora é conviente organizar essa igualdade da seguinte forma:"
   ]
  },
  {
   "cell_type": "markdown",
   "id": "46e721e4-23f2-4033-8d5c-1ef08505220f",
   "metadata": {},
   "source": [
    "$$ \\frac{X^{\\prime\\prime}(x)}{X(x)} = \\frac{1}{v^2} \\frac{T^{\\prime\\prime}(t)}{T(t)}     $$"
   ]
  },
  {
   "cell_type": "markdown",
   "id": "f06b22db-649f-4a02-a537-3f88eb4be9c8",
   "metadata": {},
   "source": [
    "Aqui cabe uma análise da expressão que obtemos: de um lado temos uma função só de $x$, do outro uma função só de $t$. Contudo, como as funções estão intimamente ligadas através de uma igualdade, daí tiramos diretamente que elas _obrigatoriamente_ terão que ser iguais a uma dada constante. Para essa conclusão, basta pensarmos, por exemplo, que estamos variando o $x$ da expressão à esquerda. Porém, nada nos obriga a estar variando o $t$ ao mesmo tempo que variamos $x$. Assim, mesmo que a variável $x$ esteja assumindo diferentes valores (fato que poderia estar alterando todo o termo $\\frac{X^{\\prime\\prime}(x)}{X(x)}$), o termo $\\frac{X^{\\prime\\prime}(x)}{X(x)}$ não pode estar variando, justamente porque $\\frac{1}{v^2} \\frac{T^{\\prime\\prime}(t)}{T(t)}$ estará constante."
   ]
  },
  {
   "cell_type": "markdown",
   "id": "b338f732-73ef-4456-968c-ec9a1c389f47",
   "metadata": {},
   "source": [
    "Chamando a constante de $\\lambda$, obtemos a relação:"
   ]
  },
  {
   "cell_type": "markdown",
   "id": "f0f51232-256c-4c94-b5c1-21abc9493adc",
   "metadata": {},
   "source": [
    "$$ \\frac{X^{\\prime\\prime}(x)}{X(x)} = \\frac{1}{v^2} \\frac{T^{\\prime\\prime}(t)}{T(t)} = \\lambda   $$"
   ]
  },
  {
   "cell_type": "markdown",
   "id": "92095f86-ba78-458f-a1ad-bbae248ba4e9",
   "metadata": {},
   "source": [
    "Iremos analisar o termo espacial e o termo temporal separadamente. "
   ]
  },
  {
   "cell_type": "markdown",
   "id": "5cce8704-f0d8-4c34-ab49-39a585c89011",
   "metadata": {},
   "source": [
    "- Para o termo espacial:"
   ]
  },
  {
   "cell_type": "markdown",
   "id": "a3ea53ef-d4f9-4e14-993b-322244c440e2",
   "metadata": {},
   "source": [
    "$$ \\frac{X^{\\prime\\prime}(x)}{X(x)} = \\lambda \\rightarrow X^{\\prime\\prime}(x) = \\lambda X(x)$$ "
   ]
  },
  {
   "cell_type": "markdown",
   "id": "df36bcc3-1629-407e-b314-a6720397dc41",
   "metadata": {},
   "source": [
    "Por fim, obtemos simplesmente a EDO:"
   ]
  },
  {
   "cell_type": "markdown",
   "id": "17897673-ffa4-407d-9595-3efae05570b3",
   "metadata": {},
   "source": [
    "$$ X^{\\prime\\prime}(x) - \\lambda X(x) = 0 $$ "
   ]
  },
  {
   "cell_type": "markdown",
   "id": "c16dca91-b04a-4b51-8aa0-7a484d868ac1",
   "metadata": {},
   "source": [
    "Que pode ser resolvida achando a equação característica e determinando a solução geral:"
   ]
  },
  {
   "cell_type": "markdown",
   "id": "d9e3b3d3-ba5e-44d1-96e7-4417b8f604e9",
   "metadata": {},
   "source": [
    "$$ r^2 - \\lambda = 0 \\rightarrow r^2 = \\lambda \\rightarrow r = \\sqrt{\\lambda}$$"
   ]
  },
  {
   "cell_type": "markdown",
   "id": "4383b06f-67b6-4c70-9082-504174a72aab",
   "metadata": {},
   "source": [
    "Para estar de acordo com as condições de contorno, o valor dentro da raiz precisa ser negativo. Tendo em vista existência dessa condição, para transformar a constante $\\lambda$ em um número positivo, fezemos:"
   ]
  },
  {
   "cell_type": "markdown",
   "id": "b71086c8-a9d4-48df-bf26-7132a95fa71d",
   "metadata": {},
   "source": [
    "$$ \\frac{X^{\\prime\\prime}(x)}{X(x)} = \\frac{1}{v^2} \\frac{T^{\\prime\\prime}(t)}{T(t)} = -\\lambda   $$"
   ]
  },
  {
   "cell_type": "markdown",
   "id": "1d9f9343-5671-43ce-851f-9af3a4a2fff5",
   "metadata": {},
   "source": [
    "Agora $\\lambda$ essencialmente se torna um valor positivo, já que explicitamos o sinal negativo da igualdade."
   ]
  },
  {
   "cell_type": "markdown",
   "id": "c728e6ae-93f1-4b1b-a943-65471f8e66e2",
   "metadata": {},
   "source": [
    "Repetindo a análise da equação característica, obtemos:"
   ]
  },
  {
   "cell_type": "markdown",
   "id": "f36173d1-097e-408d-baa6-d0b257763848",
   "metadata": {},
   "source": [
    "$$r = \\sqrt{-\\lambda} = \\sqrt{-1} \\sqrt{\\lambda} = i\\sqrt{\\lambda} $$"
   ]
  },
  {
   "cell_type": "markdown",
   "id": "20a075fd-821c-468a-9c1c-aa2ca0dbf154",
   "metadata": {},
   "source": [
    "A solução geral para uma raiz complexa $\\alpha \\pm \\beta i$ é: "
   ]
  },
  {
   "cell_type": "markdown",
   "id": "ccc253ba-42b8-4856-b509-7bcbf6e45fb0",
   "metadata": {},
   "source": [
    "$$ X(x) = e^{\\alpha}(A\\cos{\\beta x} + B\\sin{\\beta x})$$"
   ]
  },
  {
   "cell_type": "markdown",
   "id": "c74a2d02-1422-4ad5-9214-ece3c610bf25",
   "metadata": {},
   "source": [
    "Então, no nosso caso onde $\\alpha = 0$ e $\\beta = \\sqrt{\\lambda}$:"
   ]
  },
  {
   "cell_type": "markdown",
   "id": "3c6ebb4d-53f1-4603-bf86-902eca284586",
   "metadata": {},
   "source": [
    "$$ X(x) = A\\cos{\\sqrt{\\lambda}x} + B\\sin{\\sqrt{\\lambda} x}$$"
   ]
  },
  {
   "cell_type": "markdown",
   "id": "138ac620-981e-4d39-ac75-0c62afc29649",
   "metadata": {},
   "source": [
    "Aqui tiramos um tempo para analisar a solução $X(x)$ obtida em relação às condições iniciais. Tendo em vista que $u(0,t) = X(0)\\cdot T(t) = 0$, teremos que $X(0) = 0$ (para evitar a solução trivial onde $T(t) = 0$ para todo $t$). Então:"
   ]
  },
  {
   "cell_type": "markdown",
   "id": "3325952b-06dd-4c2a-a1a2-e81dd44c67ee",
   "metadata": {},
   "source": [
    "$$X(0) = A\\cos{\\sqrt{\\lambda} 0} + B\\sin{\\sqrt{\\lambda} 0} = A = 0$$"
   ]
  },
  {
   "cell_type": "markdown",
   "id": "97d7723c-2d99-4352-9d3e-c175e43620de",
   "metadata": {},
   "source": [
    "Daí tiramos que a solução espacial será apenas:"
   ]
  },
  {
   "cell_type": "markdown",
   "id": "554e08c8-09b2-44b0-8a82-92710d9ed1bd",
   "metadata": {},
   "source": [
    "$$ X(x) = B\\sin{\\sqrt{\\lambda} x} $$"
   ]
  },
  {
   "cell_type": "markdown",
   "id": "e79aea6f-0372-4da3-ac0f-7fe8a0730696",
   "metadata": {},
   "source": [
    "Agora aplicando a outra condições inicial, onde $u(L,t) = X(L)\\cdot T(t) = 0$, donde tiramos que $X(L) = 0$, novamente para evitar uma solução trivial onde $T(t) = 0$ para todo $t$. Assim:"
   ]
  },
  {
   "cell_type": "markdown",
   "id": "050e6a3a-d9ae-4a5b-a4ec-d52411de4526",
   "metadata": {},
   "source": [
    "$$ X(L) = B\\sin{\\sqrt{\\lambda}L} = 0$$"
   ]
  },
  {
   "cell_type": "markdown",
   "id": "472fac27-3ee6-4eec-8d05-cb5ee3a8c007",
   "metadata": {},
   "source": [
    "Se a constante $B$ for igual a zero também, caímos na solução trivial para $X(x)$. Então tremos que o termo do seno será igual a zero:"
   ]
  },
  {
   "cell_type": "markdown",
   "id": "30c41c73-fa45-40f8-acb6-9e07ccb9f666",
   "metadata": {},
   "source": [
    "$$ \\sin{\\sqrt{\\lambda}L} = 0$$"
   ]
  },
  {
   "cell_type": "markdown",
   "id": "8f3a0eff-98fa-4a51-80f1-3bf45187c9ea",
   "metadata": {},
   "source": [
    "Daqui tiramos uma limitação para o valor de $lambda$, onde ele tem que ser tal que respeite: "
   ]
  },
  {
   "cell_type": "markdown",
   "id": "2a0a4d9d-ad2c-4d80-8f0c-89264be806ef",
   "metadata": {},
   "source": [
    "$$ \\sqrt{\\lambda} L = n\\pi, \\text{onde n} \\in {0,1,2,3...}$$"
   ]
  },
  {
   "cell_type": "markdown",
   "id": "0935ec7a-79ba-4763-95e6-7baab371ce8d",
   "metadata": {},
   "source": [
    "Ou seja: "
   ]
  },
  {
   "cell_type": "markdown",
   "id": "fca655f1-545c-4ab2-8318-901b7edfd1b1",
   "metadata": {},
   "source": [
    "$$ \\sqrt{\\lambda}= \\frac{n\\pi}{L}$$"
   ]
  },
  {
   "cell_type": "markdown",
   "id": "c0c67c32-7bd6-48a5-b78d-3625e4c50c0a",
   "metadata": {},
   "source": [
    "Por fim resultando numa solução para o termo espacial:"
   ]
  },
  {
   "cell_type": "markdown",
   "id": "1fa0a136-febf-4e87-a08c-cfd2e72de797",
   "metadata": {},
   "source": [
    "$$ X_n(x) = B_n\\sin{\\frac{n\\pi}{L}x} $$"
   ]
  },
  {
   "cell_type": "markdown",
   "id": "38519b97-b2a1-4d34-a761-d8758e1d7a28",
   "metadata": {},
   "source": [
    "O infixo $n$ foi inserido para destacar que temos uma família de soluções aqui, onde cada $n$ determina uma solução particular diferente. "
   ]
  },
  {
   "cell_type": "markdown",
   "id": "cdd6ad3e-27ad-4d71-9cb4-99d1e9864140",
   "metadata": {},
   "source": [
    "- Para o termo temporal:"
   ]
  },
  {
   "cell_type": "markdown",
   "id": "46d0767a-69c1-4db3-9d2b-fb53604c3b2a",
   "metadata": {},
   "source": [
    "Nós já basicamente obtemos a EDO:"
   ]
  },
  {
   "cell_type": "markdown",
   "id": "707ef39e-110e-4f86-a92d-d8cdef6ab520",
   "metadata": {},
   "source": [
    "$$\\frac{T^{\\prime\\prime}(t)}{T(t)} = -v^2\\lambda \\rightarrow T^{\\prime\\prime}(t)+v^2\\lambda T(t) = 0$$"
   ]
  },
  {
   "cell_type": "markdown",
   "id": "c61e7316-ed78-4662-be64-2bf1033c604c",
   "metadata": {},
   "source": [
    "Donde tiramos a equação característica:"
   ]
  },
  {
   "cell_type": "markdown",
   "id": "83c07b18-8193-4c6c-b36f-18923e326fe0",
   "metadata": {},
   "source": [
    "$$ r^2 + v^2\\lambda = 0 \\rightarrow r = \\sqrt{-v^2 \\lambda} = v\\sqrt{-\\lambda} = iv\\sqrt{\\lambda}$$"
   ]
  },
  {
   "cell_type": "markdown",
   "id": "84ab7e46-448d-4c61-9509-e5f438673ee3",
   "metadata": {},
   "source": [
    "De novo aplicando a solução geral para uma raíz complexa:"
   ]
  },
  {
   "cell_type": "markdown",
   "id": "279eeac7-ac3d-42d1-811b-90ad25d207a2",
   "metadata": {},
   "source": [
    "$$ T(t) = K_1\\cos{v \\sqrt{\\lambda} t} + K_2\\sin{v \\sqrt{\\lambda} t}$$"
   ]
  },
  {
   "cell_type": "markdown",
   "id": "d88d2e91-9a3f-4eb8-8e5c-55788fb97577",
   "metadata": {},
   "source": [
    "Mas, aplicando a condição inicial de que $\\frac{\\partial u(x,0)}{\\partial t} = 0$:"
   ]
  },
  {
   "cell_type": "markdown",
   "id": "2d5b26bb-c854-490e-a0b8-9847481c0b4d",
   "metadata": {},
   "source": [
    "$$\\frac{\\partial u(x,0)}{\\partial t} = \\frac{\\partial [X(x)\\cdot T(0)]}{\\partial t} = X(x)\\frac{d T(0)}{dt} = 0$$"
   ]
  },
  {
   "cell_type": "markdown",
   "id": "34c4b33a-c420-4dc1-822d-02806504f0ef",
   "metadata": {},
   "source": [
    "Onde, novamente para evitar a solução trivial, teremos que:"
   ]
  },
  {
   "cell_type": "markdown",
   "id": "c801e52a-214a-4897-a5bd-2ea02ac9779c",
   "metadata": {},
   "source": [
    "$$ \\frac{d T(0)}{dt} = 0$$"
   ]
  },
  {
   "cell_type": "markdown",
   "id": "958a0c86-1237-4815-9463-bfe1f8b226c3",
   "metadata": {},
   "source": [
    "Aplicando essa condição à expressão $\\frac{d T(t)}{dt} = -v\\sqrt{\\lambda}K_1\\sin{v \\sqrt{\\lambda} t} + v\\sqrt{\\lambda}K_2\\cos{v \\sqrt{\\lambda} t} $ obtida, teremos:"
   ]
  },
  {
   "cell_type": "markdown",
   "id": "0508c7e1-ed36-4f6e-8509-6693fe2315e0",
   "metadata": {},
   "source": [
    "$$ \\frac{d T(0)}{dt} = -v\\sqrt{\\lambda}K_1\\sin{v \\sqrt{\\lambda} 0} + v\\sqrt{\\lambda}K_2\\cos{v \\sqrt{\\lambda} 0} = 0 \\rightarrow v\\sqrt{\\lambda}K_2 = 0 \\rightarrow K_2 = 0$$"
   ]
  },
  {
   "cell_type": "markdown",
   "id": "dc566a08-6079-4878-b903-238b69e8907b",
   "metadata": {},
   "source": [
    "Assim, a solução fica:"
   ]
  },
  {
   "cell_type": "markdown",
   "id": "8ed4e314-468a-43de-8076-b0d58afe7347",
   "metadata": {},
   "source": [
    "$$ T(t) = K_1\\cos{v\\sqrt{\\lambda}t}$$"
   ]
  },
  {
   "cell_type": "markdown",
   "id": "7ca4d033-6e21-4c31-8c76-edfc91441ac1",
   "metadata": {},
   "source": [
    "Contudo, nos convenientemente já encontramos um valor para $\\sqrt{\\lambda}$ no calculo anterior. Portante, substituindo-o aqui:"
   ]
  },
  {
   "cell_type": "markdown",
   "id": "9127090e-0ef4-4224-87b6-aa38f269ecc0",
   "metadata": {},
   "source": [
    "$$ T_n(t) = K_1\\cos{v\\frac{n\\pi}{L}t}$$"
   ]
  },
  {
   "cell_type": "markdown",
   "id": "94f13681-3ab1-4f34-a857-92a5bd5b554f",
   "metadata": {},
   "source": [
    "Por fim, a solução $u(x,t)$ fica:"
   ]
  },
  {
   "cell_type": "markdown",
   "id": "612ba27b-f222-44dc-b2de-bca756ecdd25",
   "metadata": {},
   "source": [
    "$$u_n(x,t) = B_n\\sin{\\frac{n\\pi}{L}x} K_n\\cos{v\\frac{n\\pi}{L}t}$$"
   ]
  },
  {
   "cell_type": "markdown",
   "id": "d73ca6a7-4bf9-468c-9abc-d91073f2246d",
   "metadata": {},
   "source": [
    "Para cada $n$ na expressão teremos uma solução. Contudo, para satisfazer qualquer condição inicial que seja, considereramos uma superposição dessas soluções fundamentais. Assim, supomos que $u(x,t)$ tem a forma:"
   ]
  },
  {
   "cell_type": "markdown",
   "id": "bc7b3b3f-bbae-434e-9361-863c05f3db1b",
   "metadata": {},
   "source": [
    "$$ u(x,t) = \\sum_{i=1}^{\\infty} B_n\\sin{\\frac{n\\pi}{L}x}K_n\\cos{v\\frac{n\\pi}{L}t}$$"
   ]
  },
  {
   "cell_type": "markdown",
   "id": "bc1b641e-b4fc-4843-b6ef-1699c8cf5913",
   "metadata": {},
   "source": [
    "Como $B_n$ multiplicado com $K_n$ resulta numa outra constante, faremos a substituição:"
   ]
  },
  {
   "cell_type": "markdown",
   "id": "bb79fb58-3534-417d-8322-f2800d5a75d0",
   "metadata": {},
   "source": [
    "$$ u(x,t) = \\sum_{i=1}^{\\infty} C_n\\sin{\\frac{n\\pi}{L}x}\\cos{v\\frac{n\\pi}{L}t}$$"
   ]
  },
  {
   "cell_type": "markdown",
   "id": "183129de-9d7f-4978-821c-47c5ba28867b",
   "metadata": {},
   "source": [
    "Obtida essa solução, vamos aplicar a condição inicial $u(x,0) = f(x)$: "
   ]
  },
  {
   "cell_type": "markdown",
   "id": "d447bc0b-3d0e-4f81-8796-63b2001a82f8",
   "metadata": {},
   "source": [
    "$$ u(x,0) = \\sum_{i=1}^{\\infty} C_n\\sin{\\frac{n\\pi}{L}x}\\cos{\\frac{n\\pi}{L}0} = \\sum_{i=1}^{\\infty} C_n\\sin{\\frac{n\\pi}{L}x} = f(x)$$"
   ]
  },
  {
   "cell_type": "markdown",
   "id": "079b81b8-caff-41e4-bdef-137999e708d9",
   "metadata": {},
   "source": [
    "Onde a igualdade $f(x) = \\sum_{i=1}^{\\infty} C_n\\sin{\\frac{n\\pi}{L}x}$ no dá a informação de que os $C_n$ são os coeficientes de Fourier da função $f(x)$ expandida em senos."
   ]
  },
  {
   "cell_type": "markdown",
   "id": "2db74587-9c85-4d23-835e-7d3c7a48c8b4",
   "metadata": {},
   "source": [
    "Série de Fourier:"
   ]
  },
  {
   "cell_type": "markdown",
   "id": "616839d3-30a6-48ef-a783-d2ec20f2f554",
   "metadata": {},
   "source": [
    "$$ f(x) = \\sum_{i=1}^{\\infty} C_n\\sin{\\frac{n\\pi}{L}x}$$"
   ]
  },
  {
   "cell_type": "markdown",
   "id": "705f1e07-9aed-44a5-979d-659c9fa9ab57",
   "metadata": {},
   "source": [
    "e"
   ]
  },
  {
   "cell_type": "markdown",
   "id": "b75bed4b-4a1b-48ee-b751-053e7d1e96a3",
   "metadata": {},
   "source": [
    "$$ C_n = \\frac{1}{L}         \\int_{-L}^{L} f(x)\\sin{(\\frac{n\\pi x}{L})} \\, dx$$"
   ]
  },
  {
   "cell_type": "markdown",
   "id": "5ce7d7a4-ae50-4600-b249-98609f0c4b38",
   "metadata": {},
   "source": [
    "O que nos dá:"
   ]
  },
  {
   "cell_type": "markdown",
   "id": "c5555676-b07c-45c4-a19b-f6419bc2d2fa",
   "metadata": {},
   "source": [
    "$$ C_n = \\frac{2}{L} \\int_{0}^{L} f(x)\\sin{(\\frac{n\\pi x}{L})} \\, dx$$"
   ]
  },
  {
   "cell_type": "markdown",
   "id": "12970db4-cfab-4e2a-acac-897a368fcc6d",
   "metadata": {},
   "source": [
    "Usaremos a seguinte função $f(x)$ como condição inicial (tanto agora quanto na parte do método numérico): "
   ]
  },
  {
   "cell_type": "markdown",
   "id": "669bfb75-c805-4479-84ea-691e8f15e775",
   "metadata": {},
   "source": [
    "$$ f(x) = \n",
    "\\begin{cases} \n",
    "    x, & \\text{se } 0 \\leq x < 0.5 \\\\\n",
    "    100-x, & \\text{se } 0.5 \\leq x < 1 \n",
    "\\end{cases}\n",
    "$$"
   ]
  },
  {
   "cell_type": "markdown",
   "id": "1f375a20-0ca6-454f-a0ea-73dc5636387a",
   "metadata": {},
   "source": [
    "Então:"
   ]
  },
  {
   "cell_type": "markdown",
   "id": "7d891ab4-f193-4c5c-aa46-8bb586d355d0",
   "metadata": {},
   "source": [
    "$$ C_n  = \n",
    "\\begin{cases} \n",
    "    \\frac{4}{n^2\\pi^2} (-1)^{\\frac{n-1}{2}}, & \\text{se n for ímpar} \\\\\n",
    "    0, & \\text{se n for par}  \n",
    "\\end{cases}$$"
   ]
  },
  {
   "cell_type": "code",
   "execution_count": null,
   "id": "6aff88e5-a5bd-43ea-8f84-6b57ac648c7d",
   "metadata": {},
   "outputs": [],
   "source": []
  },
  {
   "cell_type": "code",
   "execution_count": null,
   "id": "e735ff83-8a3a-44f1-8e24-4713c50e82b2",
   "metadata": {},
   "outputs": [],
   "source": []
  },
  {
   "cell_type": "code",
   "execution_count": 48,
   "id": "3e0bdf02-43df-4c95-a5b5-80766bb1193e",
   "metadata": {},
   "outputs": [],
   "source": [
    "def f(x, L):\n",
    "    if x>=0 and x<(L/2):\n",
    "        return x\n",
    "    if x>=(L/2) and x<=L:\n",
    "        return L-x"
   ]
  },
  {
   "cell_type": "code",
   "execution_count": 49,
   "id": "114bb0d6-02dd-4495-8f59-69bf2bf0f504",
   "metadata": {},
   "outputs": [],
   "source": [
    "def C(n):\n",
    "    if n%2 == 0:\n",
    "        return 0\n",
    "    else:\n",
    "        return (4/(n**2*pi**2))*(-1)**((n-1)/2)"
   ]
  },
  {
   "cell_type": "code",
   "execution_count": 68,
   "id": "94edbfd1-2dca-4d2b-b3ec-2ce59fdd892d",
   "metadata": {},
   "outputs": [
    {
     "data": {
      "image/png": "[encoded data removed]",
      "text/plain": [
       "<Figure size 640x480 with 1 Axes>"
      ]
     },
     "metadata": {},
     "output_type": "display_data"
    }
   ],
   "source": [
    "a = 0 # Mínimo espacial (à esquerda)\n",
    "L = 1 # b é o máximo espacial (à direita), que coindice com o \n",
    "N = 201 # Número de repartições do intervalo\n",
    "v = 4 # Parametro (velocidade) da equação de onda\n",
    "dx = (L-a)/N # Espaçamendo do grid espacial\n",
    "xs = np.linspace(a,L,N) # Grid espacial\n",
    "u_x_0 = np.zeros(N, float) \n",
    "\n",
    "Max = 100\n",
    "Cn = np.zeros(Max, float)\n",
    "for n in range(1,Max):\n",
    "    Cn[n] = C(n)\n",
    "\n",
    "tempos = [0.125, 0.25, 0.5]\n",
    "\n",
    "u_x_t_fourier = []\n",
    "\n",
    "for t in tempos:\n",
    "    u_x_t = np.zeros(N, float)\n",
    "    for i in range(N):\n",
    "        aux = 0\n",
    "        for n in range(Max):\n",
    "            aux+= Cn[n]*sin(n*pi*(i*dx)/L)*cos(v*n*pi*t/L)\n",
    "        u_x_t[i] = aux\n",
    "        \n",
    "    u_x_t_fourier.append(u_x_t)\n",
    "    \n",
    "    plt.plot(xs,u_x_t, label = f'u(x,t) para t = {t}')\n",
    "    \n",
    "\n",
    "u_x_t_fourier = np.array(u_x_t_fourier)\n",
    "\n",
    "\n",
    "\n",
    "plt.xlabel(\"Grid espacial (m)\")\n",
    "plt.ylabel(\"Deslocamento da onda (m)\")\n",
    "plt.title(\"Solução $u(x,t)$ para alguns valores de $t$ (Método Analítico)\")\n",
    "plt.grid()\n",
    "plt.legend()\n",
    "plt.show()"
   ]
  },
  {
   "cell_type": "code",
   "execution_count": null,
   "id": "575e3480-5f0f-46ef-b2f0-c436a7239c63",
   "metadata": {},
   "outputs": [],
   "source": [
    "\n"
   ]
  },
  {
   "cell_type": "code",
   "execution_count": null,
   "id": "de0cccb0-67ab-4e31-9f94-c8bf4da21ca3",
   "metadata": {},
   "outputs": [],
   "source": []
  },
  {
   "cell_type": "code",
   "execution_count": null,
   "id": "a59d5971-1eaf-4d64-a439-2d8dcf89a09c",
   "metadata": {},
   "outputs": [],
   "source": []
  },
  {
   "cell_type": "markdown",
   "id": "c062ae8f-de70-4a95-b385-f21124c8313b",
   "metadata": {},
   "source": [
    "### 2. **Resolução Numérica**"
   ]
  },
  {
   "cell_type": "markdown",
   "id": "225478f9-5d4e-43f4-b99a-25bb429105bf",
   "metadata": {},
   "source": [
    "Para o desenvovimento do método numérico, primeiro consideremos a seguinte solução trivial para a Equação de Onda:"
   ]
  },
  {
   "cell_type": "markdown",
   "id": "bd9f3a49-21dc-4f98-8002-befae4571c56",
   "metadata": {},
   "source": [
    "$$ u_k(x,t) = \\sin{(\\frac{\\pi kx}{L})}e^{i\\omega t}$$"
   ]
  },
  {
   "cell_type": "markdown",
   "id": "7fb252fa-6983-4485-a394-3f024cba6160",
   "metadata": {},
   "source": [
    "É fácil verificar que essa equação safisfaz as condições de contorno (ser zero em $x=0$ e $x=L$). Também é natural o desenvolvimento para confirmar que a expressão respeite a Equação de Onda, desde que:"
   ]
  },
  {
   "cell_type": "markdown",
   "id": "dd845148-0a8e-4e93-b0ad-2ca7e1a3a24b",
   "metadata": {},
   "source": [
    "$$ \\omega = \\frac{\\pi vk}{L}$$"
   ]
  },
  {
   "cell_type": "markdown",
   "id": "d26281d5-3beb-4cbf-a715-595495f2e2cb",
   "metadata": {},
   "source": [
    "Agora discretizando o domínio espacial, dividindo a corda em $N$ intervalores iguais, com $N+1$ pontos. A expressão para o enésimo ponto do grif será:"
   ]
  },
  {
   "cell_type": "markdown",
   "id": "d50f81d5-c554-4f9f-b2d6-fdec5a4fed11",
   "metadata": {},
   "source": [
    "$$ x_n = \\frac{n}{N}L$$"
   ]
  },
  {
   "cell_type": "markdown",
   "id": "16cd6fcf-adcc-4114-9d26-2df927e5f96d",
   "metadata": {},
   "source": [
    "A solução, a altura, da onda nesse ponto será:"
   ]
  },
  {
   "cell_type": "markdown",
   "id": "a3e23b8b-347e-4b6e-99d6-bcb43f6c8c23",
   "metadata": {},
   "source": [
    "$$u_k(x_n,t) = \\sin{(\\frac{\\pi k}{L}x_n)}exp{(i\\frac{\\pi vkt}{L})}$$"
   ]
  },
  {
   "cell_type": "markdown",
   "id": "041b9146-7ce9-4ed3-8877-f503d938fe59",
   "metadata": {},
   "source": [
    "$$u_k(x_n,t) = \\sin{(\\frac{\\pi k}{L}\\frac{nL}{N})}exp{(i\\frac{\\pi vkt}{L})}$$"
   ]
  },
  {
   "cell_type": "markdown",
   "id": "b674c6e4-ac8c-4cb0-84ce-1fde66345948",
   "metadata": {},
   "source": [
    "$$u_k(x_n,t) = \\sin{(\\frac{\\pi k n}{N})}exp{(i\\frac{\\pi vkt}{L})}$$"
   ]
  },
  {
   "cell_type": "markdown",
   "id": "65504a78-3f00-4b4b-bf0c-c5aabcc0da75",
   "metadata": {},
   "source": [
    "A solução aqui exposta não safisfaz a condiçao inicial. Para resolver isso, vamos considerar uma superposição dessas expressões, assim tornando possível a determinação de condições iniciais mais especificas, Nós podemos fazer isso porque a Equação de Onda é linear. Assim:"
   ]
  },
  {
   "cell_type": "markdown",
   "id": "7f25a8a6-ec82-47cd-a76e-c18f0341f110",
   "metadata": {},
   "source": [
    "$$ u(x_n,t) = \\frac{1}{N}\\sum_{k=1}^{N-1} b_k \\sin{(\\frac{\\pi k n}{N})}exp{(i\\frac{\\pi vkt}{L})}$$"
   ]
  },
  {
   "cell_type": "markdown",
   "id": "93785810-4ee3-4e8e-8fdc-773e5ebf02aa",
   "metadata": {},
   "source": [
    "Nota que, para $t=0$, a solução toma a forma de "
   ]
  },
  {
   "cell_type": "markdown",
   "id": "281f00cb-122b-4a7a-baba-d38890268c05",
   "metadata": {},
   "source": [
    "$$ u(x_n,t) = \\frac{1}{N}\\sum_{k=1}^{N-1} b_k \\sin{(\\frac{\\pi k n}{N})}$$"
   ]
  },
  {
   "cell_type": "markdown",
   "id": "cb40161c-d821-4249-ae19-f97e4ea08316",
   "metadata": {},
   "source": [
    "Como $b_k$ pode ser um número complexo, podemos considerar a seguinte forma para ele: "
   ]
  },
  {
   "cell_type": "markdown",
   "id": "f0d7265e-3e24-4426-8fb8-afb80b73b5d2",
   "metadata": {},
   "source": [
    "$$ b_k = \\alpha_k + i\\eta_k $$"
   ]
  },
  {
   "cell_type": "markdown",
   "id": "de15bba1-53c2-4ed6-975e-47be70fea64a",
   "metadata": {},
   "source": [
    "Assim:"
   ]
  },
  {
   "cell_type": "markdown",
   "id": "f1c51a15-8236-4399-a46b-ce3e493506c5",
   "metadata": {},
   "source": [
    "$$ u(x_n,t) = \\frac{1}{N}\\sum_{k=1}^{N-1} ( \\alpha_k + i\\eta_k) \\sin{(\\frac{\\pi k n}{N})}exp{(i\\frac{\\pi vkt}{L})}$$"
   ]
  },
  {
   "cell_type": "markdown",
   "id": "e77bd1dc-0a5f-441d-8fab-4777b0617233",
   "metadata": {},
   "source": [
    "Analisando agora na condição inicial de $u(x,t)$ (ou seja, em $t=0$):"
   ]
  },
  {
   "cell_type": "markdown",
   "id": "76378675-acdb-4421-adf2-9560037a32c8",
   "metadata": {},
   "source": [
    "$$ u(x_n,0) = \\frac{1}{N}\\sum_{k=1}^{N-1} ( \\alpha_k + i\\eta_k) \\sin{(\\frac{\\pi k n}{N})}exp{(i\\frac{\\pi vk0}{L})} = \\frac{1}{N}\\sum_{k=1}^{N-1} ( \\alpha_k + i\\eta_k) \\sin{(\\frac{\\pi k n}{N})}$$"
   ]
  },
  {
   "cell_type": "markdown",
   "id": "56be8e6a-07ee-4001-ace9-7aad99fbd462",
   "metadata": {},
   "source": [
    "Contudo, considerando a própria natureza física de $u(x,0)$, teremos que o lado esquerdo da equação sempre será um valor real, justamente porque um deslocamento sempre o é. Assim, para igualdade ser verdadeira, $b_k$ será composto apenas pelos reais $\\alpha_k$. Resultando em: "
   ]
  },
  {
   "cell_type": "markdown",
   "id": "5f13d501-7d5c-4b3c-b2cf-516f17111826",
   "metadata": {},
   "source": [
    "$$ u(x_n,0) = \\frac{1}{N}\\sum_{k=1}^{N-1} \\alpha_k \\sin{(\\frac{\\pi k n}{N})}$$"
   ]
  },
  {
   "cell_type": "markdown",
   "id": "7970caae-2023-4d08-9af1-849e1252b03c",
   "metadata": {},
   "source": [
    "Onde obtemos simplesmente uma Série de Fourier em senos com coeficientes $\\alpha_k$."
   ]
  },
  {
   "cell_type": "markdown",
   "id": "65bc81c1-0e35-415f-963b-0a077510309d",
   "metadata": {},
   "source": [
    "De forma similar, podemos fazer essa análise com a outra condição inicial ($\\frac{\\partial u(x_n,0)}{\\partial t}$):"
   ]
  },
  {
   "cell_type": "markdown",
   "id": "8a1e5611-0378-473e-84c6-1351ec260e26",
   "metadata": {},
   "source": [
    "Primeiro obtendo $\\frac{\\partial u(x_n,t)}{\\partial t}$:"
   ]
  },
  {
   "cell_type": "markdown",
   "id": "16eae9b8-15be-4c46-bb05-1c5efe44b012",
   "metadata": {},
   "source": [
    "$$ \\frac{\\partial u(x_n,t)}{\\partial t} = \\frac{\\partial [\\frac{1}{N}\\sum_{k=1}^{N-1} ( \\alpha_k + i\\eta_k) \\sin{(\\frac{\\pi k n}{N})}exp{(i\\frac{\\pi vkt}{L})}]}{\\partial t} = \\frac{1}{N} \\sum_{k=1}^{N-1} ( \\alpha_k + i\\eta_k) \\sin{(\\frac{\\pi k n}{N})} \\frac{\\partial [exp{(i\\frac{\\pi vkt}{L})}]}{\\partial t} $$"
   ]
  },
  {
   "cell_type": "markdown",
   "id": "699727ff-a2f6-4447-a255-e62ae849e298",
   "metadata": {},
   "source": [
    "$$ \\frac{\\partial u(x_n,t)}{\\partial t} = \\frac{1}{N} \\sum_{k=1}^{N-1}( \\alpha_k + i\\eta_k) \\sin{(\\frac{\\pi k n}{N})} \\exp{(\\frac{i\\pi v k t}{L})} \\frac{i\\pi vk}{L}$$"
   ]
  },
  {
   "cell_type": "markdown",
   "id": "4c3f1695-e3bb-4b8c-b835-a639a18f8940",
   "metadata": {},
   "source": [
    "$$ \\frac{\\partial u(x_n,t)}{\\partial t} = \\frac{1}{N} \\frac{\\pi v}{L} \\sum_{k=1}^{N-1} k (i\\alpha_k -\\eta_k) \\sin{(\\frac{\\pi k n}{N})} \\exp{(\\frac{i\\pi v k t}{L})}$$"
   ]
  },
  {
   "cell_type": "markdown",
   "id": "c9460465-4a9f-4ec8-8766-5631dda20190",
   "metadata": {},
   "source": [
    "Como vamos considerar o instante com $t=0$:"
   ]
  },
  {
   "cell_type": "markdown",
   "id": "3f01402b-0422-49e9-83c8-f2ba1f8720e7",
   "metadata": {},
   "source": [
    "$$ \\frac{\\partial u(x_n,0)}{\\partial t} = \\frac{1}{N} \\frac{\\pi v}{L} \\sum_{k=1}^{N-1} k (i\\alpha_k -\\eta_k) \\sin{(\\frac{\\pi k n}{N})}$$"
   ]
  },
  {
   "cell_type": "markdown",
   "id": "f0a62949-fa24-4f5b-8f17-dacf76162e7b",
   "metadata": {},
   "source": [
    "De novo podemos usar o argumento de que o termo à esquerda da expressão é sempre real, obetendo:"
   ]
  },
  {
   "cell_type": "markdown",
   "id": "d73f1271-e683-4ada-9756-ab0f238dd65d",
   "metadata": {},
   "source": [
    "$$ \\frac{\\partial u(x_n,0)}{\\partial t} = \\frac{1}{N} \\frac{\\pi v}{L} \\sum_{k=1}^{N-1} k (-\\eta_k) \\sin{(\\frac{\\pi k n}{N})}$$"
   ]
  },
  {
   "cell_type": "markdown",
   "id": "8b4b65f4-4c26-40da-8662-1af2bd3d9696",
   "metadata": {},
   "source": [
    "$$ \\frac{\\partial u(x_n,0)}{\\partial t} = \\frac{1}{N} (-\\frac{\\pi v}{L}) \\sum_{k=1}^{N-1} k\\eta_k \\sin{(\\frac{\\pi k n}{N})}$$"
   ]
  },
  {
   "cell_type": "markdown",
   "id": "5d52ba6f-b445-4b01-927e-8cde1a6a6d18",
   "metadata": {},
   "source": [
    "Apesar do valor numérico, chegemos em outra série de senos, dessa vez com coeficientes $k\\eta_k$"
   ]
  },
  {
   "cell_type": "code",
   "execution_count": null,
   "id": "61caf76d-c47c-4899-b755-1a6b5db70227",
   "metadata": {},
   "outputs": [],
   "source": []
  },
  {
   "cell_type": "code",
   "execution_count": null,
   "id": "b7ecbe0e-1ca6-49cd-8425-a958d90d9dd9",
   "metadata": {},
   "outputs": [],
   "source": []
  },
  {
   "cell_type": "code",
   "execution_count": null,
   "id": "b896f6b9-b507-494d-b934-bfd3fa398dfe",
   "metadata": {},
   "outputs": [],
   "source": []
  },
  {
   "cell_type": "code",
   "execution_count": null,
   "id": "f7a2ae3f-7397-4f84-96c7-059274c4a8b5",
   "metadata": {},
   "outputs": [],
   "source": []
  },
  {
   "cell_type": "code",
   "execution_count": null,
   "id": "2f8e358f-7f77-42c5-8194-104401e4091a",
   "metadata": {},
   "outputs": [],
   "source": []
  },
  {
   "cell_type": "markdown",
   "id": "5be75561-8ed5-4939-92af-2756fc354f2a",
   "metadata": {},
   "source": [
    "Por fim, vamos voltar à expressão base do método:"
   ]
  },
  {
   "cell_type": "markdown",
   "id": "7b49af5c-8703-44f9-af8b-2e610570d3e1",
   "metadata": {},
   "source": [
    "$$ u(x_n,t) = \\frac{1}{N}\\sum_{k=1}^{N-1} b_k \\sin{(\\frac{\\pi k n}{N})}exp{(i\\frac{\\pi vkt}{L})}$$"
   ]
  },
  {
   "cell_type": "markdown",
   "id": "4202ca00-15e1-41df-9872-a1d5d222a344",
   "metadata": {},
   "source": [
    "Utilizando a identidade de Euler $e^{i\\theta} = \\cos{(\\theta)} + i\\sin{(\\theta)}$ e $b_k = \\alpha_k+i\\eta_k$:"
   ]
  },
  {
   "cell_type": "markdown",
   "id": "5da92b07-0359-49c9-81ea-5446b7799cf7",
   "metadata": {},
   "source": [
    "$$ u(x_n,t) = \\frac{1}{N}\\sum_{k=1}^{N-1} (\\alpha_k+i\\eta_k) \\sin{(\\frac{\\pi k n}{N})}\\Big[\\cos{(\\frac{\\pi vkt}{L})} + i\\sin{(\\frac{\\pi vkt}{L})}\\Big] $$"
   ]
  },
  {
   "cell_type": "markdown",
   "id": "a819cbd9-ea66-45e6-a082-3e04ecf60b7d",
   "metadata": {},
   "source": [
    "$$ u(x_n,t) = \\frac{1}{N}\\sum_{k=1}^{N-1} \\Big[[\\alpha_k\\cos{(\\frac{\\pi vkt}{L})} + \\alpha_ki\\sin{(\\frac{\\pi vkt}{L})}] + [i\\eta_k\\cos{(\\frac{\\pi vkt}{L})} + i\\eta_ki\\sin{(\\frac{\\pi vkt}{L})}]\\Big]\\sin{(\\frac{\\pi kn}{N})}$$"
   ]
  },
  {
   "cell_type": "markdown",
   "id": "c1af9590-1020-4a47-ab3d-98b452bb5317",
   "metadata": {},
   "source": [
    "Temos como um resultado geral que tanto a parte real como a parte imaginária dessa soma é solução da Equação de Onda. Porém, por motivos físicos, tomaremos apenas a parte real da solução, obtendo:"
   ]
  },
  {
   "cell_type": "markdown",
   "id": "64964123-a485-4610-85c2-67f717633c53",
   "metadata": {},
   "source": [
    "$$ u(x_n,t) = \\frac{1}{N}\\sum_{k=1}^{N-1} \\Big[\\alpha_k\\cos{(\\frac{\\pi vkt}{L})}-\\eta_k\\sin{(\\frac{\\pi vkt}{L})}\\Big]\\sin{(\\frac{\\pi kn}{N})}$$"
   ]
  },
  {
   "cell_type": "code",
   "execution_count": null,
   "id": "fe99ccd1-028a-415b-8f20-44b2ab355ab3",
   "metadata": {},
   "outputs": [],
   "source": []
  },
  {
   "cell_type": "code",
   "execution_count": 61,
   "id": "06fd6f21-43ba-4822-bda1-75c3125126f1",
   "metadata": {},
   "outputs": [],
   "source": [
    "import numpy as np\n",
    "import matplotlib.pyplot as plt\n",
    "from math import exp, sin, cos, pi\n",
    "from numpy.fft import rfft"
   ]
  },
  {
   "cell_type": "code",
   "execution_count": 62,
   "id": "66402faa-01f9-47f4-9a83-9d80a0bac1a7",
   "metadata": {},
   "outputs": [],
   "source": [
    "# 1D DST Type-I\n",
    "def dst(y):\n",
    "    N = len(y)\n",
    "    y2 = np.empty(2*N,float)\n",
    "    y2[0] = y2[N] = 0.0\n",
    "    y2[1:N] = y[1:]\n",
    "    \n",
    "    y2[len(y2)-1:N:-1] = -1*y[1:]\n",
    "    \n",
    "    a = -np.imag(rfft(y2))[:N]\n",
    "    a[0] = 0.0\n",
    "\n",
    "    return a"
   ]
  },
  {
   "cell_type": "code",
   "execution_count": 69,
   "id": "3652cdec-2291-49f7-b9b4-f7e436649d12",
   "metadata": {},
   "outputs": [
    {
     "data": {
      "image/png": "[encoded data removed]",
      "text/plain": [
       "<Figure size 640x480 with 1 Axes>"
      ]
     },
     "metadata": {},
     "output_type": "display_data"
    },
    {
     "data": {
      "image/png": "[encoded data removed]",
      "text/plain": [
       "<Figure size 640x480 with 1 Axes>"
      ]
     },
     "metadata": {},
     "output_type": "display_data"
    }
   ],
   "source": [
    "L = 1.0\n",
    "v = 4\n",
    "\n",
    "xs = np.linspace(0,L,N)\n",
    "dx = xs[1] - xs[0]\n",
    "\n",
    "u_x_0 = np.zeros(N, float)\n",
    "\n",
    "for i in range(N):\n",
    "    u_x_0[i] = f(i*dx, L) # condição inicial\n",
    "\n",
    "alfas = dst(u_x_0) # pegar os alfas\n",
    "\n",
    "# Os etas são todos nulos; não há velocidade inicial \n",
    "etas = np.zeros(len(alfas), float) # todos etas = 0\n",
    "\n",
    "u_x_t_espectral = []\n",
    "\n",
    "for t in tempos:\n",
    "    u_x_t = np.zeros(N, float)\n",
    "    for n in range(N):\n",
    "        aux = 0\n",
    "        for k in range(1,N):\n",
    "            aux += (alfas[k]*cos(pi*v*k*t/L)-etas[k]*sin(pi*v*k*t/L))*sin(pi*k*n/N)    # Solução do método \n",
    "        u_x_t[n] = aux/N\n",
    "\n",
    "    u_x_t_espectral.append(u_x_t)\n",
    "    \n",
    "    plt.plot(xs,u_x_t, label = f'u(x,t) para t = {t}')\n",
    "\n",
    "u_x_t_espectral = np.array(u_x_t_espectral)\n",
    "\n",
    "\n",
    "plt.xlabel(\"Grid espacial (m)\")\n",
    "plt.ylabel(\"Deslocamento da onda (m)\")\n",
    "plt.title(\"Solução $u(x,t)$ para alguns valores de $t$ (Método Numérico)\")\n",
    "plt.grid()\n",
    "plt.legend()\n",
    "plt.show()\n",
    "\n",
    "\n",
    "erro =  u_x_t_fourier - u_x_t_espectral\n",
    "\n",
    "for t in range(len(tempos)):\n",
    "    plt.plot(xs, erro[t], label = f'Erro para t = {tempos[t]}')    \n",
    "\n",
    "plt.xlabel(\"Grid espacial (m)\")\n",
    "plt.ylabel(\"Amplitude do erro (m)\")\n",
    "plt.title(\"Erro relativo para alguns valores de t\")\n",
    "plt.grid()\n",
    "plt.legend()\n",
    "plt.show()"
   ]
  },
  {
   "cell_type": "code",
   "execution_count": null,
   "id": "eed400f5-6d87-4b46-bf2b-d76195e236d3",
   "metadata": {},
   "outputs": [],
   "source": []
  },
  {
   "cell_type": "markdown",
   "id": "935ea31e-b165-4ff5-aee8-bbd4b119896e",
   "metadata": {},
   "source": [
    "### Determinando os $C_n$"
   ]
  },
  {
   "cell_type": "markdown",
   "id": "2f497dd9-b9db-4953-b840-0d2a251d8bbd",
   "metadata": {},
   "source": [
    "$$ C_n = \\frac{2}{L}[\\int_{0}^{\\frac{L}{2}} x\\sin{(\\frac{n\\pi x}{L})} \\, dx + \\int_{\\frac{L}{2}}^{L} (L-x)\\sin{(\\frac{n\\pi x}{L})} \\, dx]$$"
   ]
  },
  {
   "cell_type": "markdown",
   "id": "ade58c7a-fc76-405b-8d9e-74a0bb530723",
   "metadata": {},
   "source": [
    "Vamos resolver cada integral dessa separadamente. "
   ]
  },
  {
   "cell_type": "markdown",
   "id": "c4b225f0-38c5-406b-ac81-844598461eb3",
   "metadata": {},
   "source": [
    "- Começando pela primeira:"
   ]
  },
  {
   "cell_type": "markdown",
   "id": "95e9fd4d-9505-47f1-bda8-4dce60c7632f",
   "metadata": {},
   "source": [
    "$$ \\int_{0}^{\\frac{L}{2}} x\\sin{(\\frac{n\\pi x}{L})} \\, dx $$"
   ]
  },
  {
   "cell_type": "markdown",
   "id": "dcab27c5-e5bd-4400-aaf4-2cdfae2fe150",
   "metadata": {},
   "source": [
    "Iremos utilizar a tecnica de integração por partes $\\int fg^{\\prime} = fg - \\int f^{\\prime}g$, com $f = x$ e $g^{\\prime} = sin{(\\frac{n\\pi x}{L})}$."
   ]
  },
  {
   "cell_type": "markdown",
   "id": "fcdab49b-49b8-44a8-9e1f-ff00e0ddfab7",
   "metadata": {},
   "source": [
    "Considerando que $f^{\\prime} = 1$ e $g = -\\frac{\\cos{(\\frac{n\\pi x}{L})}}{\\frac{n\\pi}{L}}$, obtemos:"
   ]
  },
  {
   "cell_type": "markdown",
   "id": "5024420a-bc2b-4f80-9789-17d0aa993194",
   "metadata": {},
   "source": [
    "$$ \\int_{0}^{\\frac{L}{2}} x\\sin{(\\frac{n\\pi x}{L})} \\, dx = x (-\\frac{\\cos{(\\frac{n\\pi x}{L})}}{\\frac{n\\pi}{L}}\\Big|_{0}^{\\frac{L}{2}}) - \\int_{0}^{\\frac{L}{2}} -\\frac{\\cos{(\\frac{n\\pi x}{L})}}{\\frac{n\\pi}{L}} dx$$"
   ]
  },
  {
   "cell_type": "markdown",
   "id": "5b518c27-3f4f-491d-8bef-5133334664b7",
   "metadata": {},
   "source": [
    "$$\\int_{0}^{\\frac{L}{2}} x\\sin{(\\frac{n\\pi x}{L})} \\, dx = -\\frac{L}{n\\pi} (x\\cos{(\\frac{n\\pi x}{L})}\\Big|_{0}^{\\frac{L}{2}}) + \\frac{L}{n\\pi}\\int_{0}^{\\frac{L}{2}} cos{\\frac{n\\pi x}{L}} dx$$"
   ]
  },
  {
   "cell_type": "markdown",
   "id": "0f00663c-8e39-4c08-86f5-da46f86d7cba",
   "metadata": {},
   "source": [
    "$$ \\int_{0}^{\\frac{L}{2}} x\\sin{(\\frac{n\\pi x}{L})} \\, dx = -\\frac{L}{n\\pi}(\\frac{L}{2}\\cos{(\\frac{n\\pi}{L}\\frac{L}{2}) - 0}) + \\frac{L}{n\\pi} (\\frac{\\sin{(\\frac{n\\pi x}{L})}}{\\frac{n\\pi}{L}}\\Big|_{0}^{\\frac{L}{2}})$$"
   ]
  },
  {
   "cell_type": "markdown",
   "id": "740ebff4-ca7d-4dc0-a75e-4c8b49faaa2d",
   "metadata": {},
   "source": [
    "$$ \\int_{0}^{\\frac{L}{2}} x\\sin{(\\frac{n\\pi x}{L})} \\, dx = -\\frac{L^2}{2n\\pi}\\cos{(\\frac{\\pi}{2}n)} + \\frac{L^2}{n^2\\pi^2}(\\sin{(\\frac{n\\pi x}{L})}\\Big|_{0}^{\\frac{L}{2}})$$"
   ]
  },
  {
   "cell_type": "markdown",
   "id": "432aa619-449c-4adf-9590-9fbb6001c224",
   "metadata": {},
   "source": [
    "$$ \\int_{0}^{\\frac{L}{2}} x\\sin{(\\frac{n\\pi x}{L})} \\, dx = -\\frac{L^2}{2n\\pi}\\cos{(\\frac{\\pi}{2}n)} + \\frac{L^2}{n^2\\pi^2}(\\sin{(\\frac{n\\pi}{L}\\frac{L}{2})} - \\sin{(\\frac{n\\pi}{L}0)})$$"
   ]
  },
  {
   "cell_type": "markdown",
   "id": "a39c67ab-87bd-4c45-b7e3-2d03fd86009b",
   "metadata": {},
   "source": [
    "$$ \\int_{0}^{\\frac{L}{2}} x\\sin{(\\frac{n\\pi x}{L})} \\, dx = -\\frac{L^2}{2n\\pi}\\cos{(\\frac{\\pi}{2}n)} + \\frac{L^2}{n^2\\pi^2}\\sin{(\\frac{\\pi}{2}n)}$$"
   ]
  },
  {
   "cell_type": "markdown",
   "id": "919cbfff-dfc9-43ce-91c9-0300dd828cdb",
   "metadata": {},
   "source": [
    "Essa é a expressão final para nossa primera integral, onde o termo do cosseno e do seno vão ficar alternando entre $1$, $-1$ e $0$."
   ]
  },
  {
   "cell_type": "markdown",
   "id": "8a4c292e-ec13-4a88-9793-e0fac7e99824",
   "metadata": {},
   "source": [
    "\n"
   ]
  },
  {
   "cell_type": "markdown",
   "id": "59f16c5a-a0c9-426d-9c33-f03b964d1e3c",
   "metadata": {},
   "source": [
    "- Segunda integral:"
   ]
  },
  {
   "cell_type": "markdown",
   "id": "13f0d597-77ed-4319-a0b0-18e8931b7d0c",
   "metadata": {},
   "source": [
    "$$  \\int_{\\frac{L}{2}}^{L} (L-x)\\sin{(\\frac{n\\pi x}{L})} \\, dx = \\int_{\\frac{L}{2}}^{L} L \\sin{(\\frac{n\\pi x}{L})} \\, dx - \\int_{\\frac{L}{2}}^{L} x\\sin{(\\frac{n\\pi x}{L})} \\, dx$$"
   ]
  },
  {
   "cell_type": "markdown",
   "id": "a561e051-d2ef-411a-a337-c093f9569289",
   "metadata": {},
   "source": [
    "Para o primeiro termo:"
   ]
  },
  {
   "cell_type": "markdown",
   "id": "465cfa43-2552-4b0f-9834-3b2789e9a4d2",
   "metadata": {},
   "source": [
    "$$ \\int_{\\frac{L}{2}}^{L} L \\sin{(\\frac{n\\pi x}{L})} \\, dx = L\\int_{\\frac{L}{2}}^{L} \\sin{(\\frac{n\\pi x}{L})} \\, dx = L(-\\frac{\\cos{(\\frac{n\\pi x}{L})}}{\\frac{n\\pi}{L}}\\Big|_{\\frac{L}{2}}^{L}) = -\\frac{L^2}{n\\pi}(\\cos{(\\frac{n\\pi x}{L})}\\Big|_{\\frac{L}{2}}^{L})$$"
   ]
  },
  {
   "cell_type": "markdown",
   "id": "bac3f4df-a29a-4376-b5e1-82c2f7e893a6",
   "metadata": {},
   "source": [
    "$$ \\int_{\\frac{L}{2}}^{L} L \\sin{(\\frac{n\\pi x}{L})} \\, dx = -\\frac{L^2}{n\\pi}[cos{(\\frac{n\\pi}{L}L) - cos{(\\frac{n\\pi}{L}\\frac{L}{2})}}]$$"
   ]
  },
  {
   "cell_type": "markdown",
   "id": "1ab5197e-ecf4-497a-a6a0-5c723f36a2e9",
   "metadata": {},
   "source": [
    "$$ \\int_{\\frac{L}{2}}^{L} L \\sin{(\\frac{n\\pi x}{L})} \\, dx = -\\frac{L^2}{n\\pi}[\\cos{(n\\pi )} - \\cos{(\\frac{\\pi}{2}n)}] $$"
   ]
  },
  {
   "cell_type": "markdown",
   "id": "713b48ff-4c50-4918-bd60-956d74a90df8",
   "metadata": {},
   "source": [
    "$$ \\int_{\\frac{L}{2}}^{L} L \\sin{(\\frac{n\\pi x}{L})} \\, dx = -\\frac{L^2}{n\\pi}\\cos{(n\\pi )} + \\frac{L^2}{n\\pi}\\cos{(\\frac{\\pi}{2}n)}] $$"
   ]
  },
  {
   "cell_type": "markdown",
   "id": "3f3b6815-9fac-47c0-b436-75195c09278f",
   "metadata": {},
   "source": [
    "Para o segundo termo:"
   ]
  },
  {
   "cell_type": "markdown",
   "id": "a99197a2-ee57-44ef-b2a2-51f9865bc593",
   "metadata": {},
   "source": [
    "$$ \\int_{\\frac{L}{2}}^{L} x\\sin{(\\frac{n\\pi x}{L})} \\, dx$$"
   ]
  },
  {
   "cell_type": "markdown",
   "id": "ede3c087-d82f-47c1-8e76-0d71502d01fc",
   "metadata": {},
   "source": [
    "Vamos de novo utilizar a integração por partes $\\int fg^{\\prime} = fg - \\int f^{\\prime}g$, com $f = x$ e $g^{\\prime} = sin{(\\frac{n\\pi x}{L})}$."
   ]
  },
  {
   "cell_type": "markdown",
   "id": "6e589c7a-f0aa-446c-aff4-cb63eb3a2075",
   "metadata": {},
   "source": [
    "Lembrando que $f^{\\prime} = 1$ e $g = -\\frac{\\cos{(\\frac{n\\pi x}{L})}}{\\frac{n\\pi}{L}}$. Assim:"
   ]
  },
  {
   "cell_type": "markdown",
   "id": "423174e3-670f-4015-a7e1-a954f15bcc14",
   "metadata": {},
   "source": [
    "$$ \\int_{\\frac{L}{2}}^{L} x\\sin{(\\frac{n\\pi x}{L})} \\, dx = x (-\\frac{\\cos{(\\frac{n\\pi x}{L})}}{\\frac{n\\pi}{L}}\\Big|_{\\frac{L}{2}}^{L}) - \\int_{\\frac{L}{2}}^{L} -\\frac{\\cos{(\\frac{n\\pi x}{L})}}{\\frac{n\\pi}{L}} dx$$"
   ]
  },
  {
   "cell_type": "markdown",
   "id": "319f1a04-9613-41dd-93c4-9ad5f4f5d93c",
   "metadata": {},
   "source": [
    "$$ \\int_{\\frac{L}{2}}^{L} x\\sin{(\\frac{n\\pi x}{L})} \\, dx  = -\\frac{L}{n\\pi} (x\\cos{(\\frac{n\\pi x}{L})}\\Big|_{\\frac{L}{2}}^{L}) + \\frac{L}{n\\pi}\\int_{\\frac{L}{2}}^{L} cos{\\frac{n\\pi x}{L}} dx$$"
   ]
  },
  {
   "cell_type": "markdown",
   "id": "cf0373f1-22b3-495b-a0f2-df2aaca471b7",
   "metadata": {},
   "source": [
    "$$ \\int_{\\frac{L}{2}}^{L} x\\sin{(\\frac{n\\pi x}{L})} \\, dx = -\\frac{L}{n\\pi}[L\\cos{(\\frac{n\\pi}{L}L)} - \\frac{L}{2}\\cos{(\\frac{n\\pi}{L}\\frac{L}{2})}] + \\frac{L}{n\\pi}(\\frac{\\sin{(\\frac{n\\pi x}{L})}}{\\frac{n\\pi}{L}}\\Big|_{\\frac{L}{2}}^{L})$$"
   ]
  },
  {
   "cell_type": "markdown",
   "id": "81d960e1-ec3d-4830-b68f-cc6f1bab4ef8",
   "metadata": {},
   "source": [
    "$$ \\int_{\\frac{L}{2}}^{L} x\\sin{(\\frac{n\\pi x}{L})} \\, dx = -\\frac{L}{n\\pi}[Lcos{(n\\pi)} - \\frac{L}{2}\\cos{(\\frac{\\pi}{2}n)}] + \\frac{L^2}{n^2\\pi^2}(\\sin{(\\frac{n\\pi x}{L})}\\Big|_{\\frac{L}{2}}^{L})$$"
   ]
  },
  {
   "cell_type": "markdown",
   "id": "b3a47fee-2e2b-4cce-9b83-df3bbdbad01b",
   "metadata": {},
   "source": [
    "$$ \\int_{\\frac{L}{2}}^{L} x\\sin{(\\frac{n\\pi x}{L})} \\, dx = -\\frac{L}{n\\pi}[Lcos{(n\\pi)} - \\frac{L}{2}\\cos{(\\frac{\\pi}{2}n)}] + \\frac{L^2}{n^2\\pi^2}[\\sin{(\\frac{n\\pi}{L}L)} - \\sin{(\\frac{n\\pi}{L}\\frac{L}{2})}]$$"
   ]
  },
  {
   "cell_type": "markdown",
   "id": "50026495-9665-4cb0-b4ae-5c4381e4b1e4",
   "metadata": {},
   "source": [
    "$$ \\int_{\\frac{L}{2}}^{L} x\\sin{(\\frac{n\\pi x}{L})} \\, dx = -\\frac{L}{n\\pi}[Lcos{(n\\pi)} - \\frac{L}{2}\\cos{(\\frac{\\pi}{2}n)}] + \\frac{L^2}{n^2\\pi^2}[\\sin{(n\\pi)}-\\sin{(\\frac{\\pi}{2}n)}] $$"
   ]
  },
  {
   "cell_type": "markdown",
   "id": "6e268c8c-5ede-4ce4-b822-cbc683b62def",
   "metadata": {},
   "source": [
    "Aqui o termo $\\sin{(n\\pi)}$ será sempre igual a 0. Então:"
   ]
  },
  {
   "cell_type": "markdown",
   "id": "a14ece6c-62be-4627-ab0e-bbd496c18552",
   "metadata": {},
   "source": [
    "$$ \\int_{\\frac{L}{2}}^{L} x\\sin{(\\frac{n\\pi x}{L})} \\, dx = -\\frac{L^2}{n\\pi}cos{(n\\pi)} + \\frac{L^2}{2n\\pi}\\cos{(\\frac{\\pi}{2}n)} - \\frac{L^2}{n^2\\pi^2}\\sin{(\\frac{\\pi}{2}n)} $$"
   ]
  },
  {
   "cell_type": "markdown",
   "id": "c6754377-145f-4a95-8936-133658a9f03b",
   "metadata": {},
   "source": [
    "Compactando a segunda integral:"
   ]
  },
  {
   "cell_type": "markdown",
   "id": "dee4e9da-ae6b-4b69-88e1-012cce51b211",
   "metadata": {},
   "source": [
    "$$ \\int_{\\frac{L}{2}}^{L} (L-x)\\sin{(\\frac{n\\pi x}{L})} \\, dx  = -\\frac{L^2}{n\\pi}\\cos{(n\\pi )} + \\frac{L^2}{n\\pi}\\cos{(\\frac{\\pi}{2}n)} - \\Big[ -\\frac{L^2}{n\\pi}cos{(n\\pi)} + \\frac{L^2}{2n\\pi}\\cos{(\\frac{\\pi}{2}n)} - \\frac{L^2}{n^2\\pi^2}\\sin{(\\frac{\\pi}{2}n)}\\Big]$$"
   ]
  },
  {
   "cell_type": "markdown",
   "id": "f08e964c-19ea-4627-8acd-39bba0da0520",
   "metadata": {},
   "source": [
    "$$ \\int_{\\frac{L}{2}}^{L} (L-x)\\sin{(\\frac{n\\pi x}{L})} \\, dx  = -\\frac{L^2}{n\\pi}\\cos{(n\\pi)}+\\frac{L^2}{n\\pi}\\cos{(\\frac{\\pi}{2}n)} + \\Big[\\frac{L^2}{n\\pi}\\cos{(n\\pi)}-\\frac{L^2}{2n\\pi}\\cos{(\\frac{\\pi}{2}n)} + \\frac{L^2}{n^2\\pi^2}\\sin{(\\frac{\\pi}{2}n)}\\Big]$$"
   ]
  },
  {
   "cell_type": "markdown",
   "id": "1cb2a51b-926a-49ce-b203-591e227a5def",
   "metadata": {},
   "source": [
    "$$ \\int_{\\frac{L}{2}}^{L} (L-x)\\sin{(\\frac{n\\pi x}{L})} \\, dx  = \\frac{L^2}{2n\\pi}\\cos{(\\frac{\\pi}{2}n)} + \\frac{L^2}{n^2\\pi^2}\\sin{(\\frac{\\pi}{2}n)}$$"
   ]
  },
  {
   "cell_type": "markdown",
   "id": "31aa3da4-992d-4b10-9c68-9bb8b9496ae0",
   "metadata": {},
   "source": [
    "Assim, a expressão final será:"
   ]
  },
  {
   "cell_type": "markdown",
   "id": "53c2fa92-dfa9-4754-b1ce-7b49b40f96c3",
   "metadata": {},
   "source": [
    "$$ C_n = \\frac{2}{L}[\\int_{0}^{\\frac{L}{2}} x\\sin{(\\frac{n\\pi x}{L})} \\, dx + \\int_{\\frac{L}{2}}^{L} (L-x)\\sin{(\\frac{n\\pi x}{L})} \\, dx]$$ "
   ]
  },
  {
   "cell_type": "markdown",
   "id": "b5b9b5d7-b3e4-412b-bbc6-26d8db120eb4",
   "metadata": {},
   "source": [
    "$$ C_n = \\frac{2}{L}\\Big[-\\frac{L^2}{2n\\pi}\\cos{(\\frac{\\pi}{2}n)} + \\frac{L^2}{n^2\\pi^2}\\sin{(\\frac{\\pi}{2}n)} + [\\frac{L^2}{2n\\pi}\\cos{(\\frac{\\pi}{2}n)} + \\frac{L^2}{n^2\\pi^2}\\sin{(\\frac{\\pi}{2}n)}]\\Big]$$"
   ]
  },
  {
   "cell_type": "markdown",
   "id": "a4837e03-1b2c-489f-84f7-6a73fd8f5969",
   "metadata": {},
   "source": [
    "$$ C_n = \\frac{2}{L}\\Big[\\frac{2L^2}{n^2\\pi^2}\\sin{(\\frac{\\pi}{2}n)}     \\Big]$$"
   ]
  },
  {
   "cell_type": "markdown",
   "id": "678a6f7b-0a08-4080-80c4-5419ea6f7926",
   "metadata": {},
   "source": [
    "$$C_n = \\frac{4L}{n^2\\pi^2}\\sin{(\\frac{\\pi}{2}n)}$$"
   ]
  },
  {
   "cell_type": "markdown",
   "id": "89a56e67-4fd7-4d0c-bff9-70a216129e04",
   "metadata": {},
   "source": [
    "Os primeiros termos da sequência serão:"
   ]
  },
  {
   "cell_type": "markdown",
   "id": "3dc2c4d6-196b-43f0-bee5-9093483bb5e7",
   "metadata": {},
   "source": [
    "$$ C_1 = \\frac{4L}{1^2\\pi^2}\\sin{(\\frac{\\pi}{2}1)} = \\frac{4L}{1^2\\pi^2}$$"
   ]
  },
  {
   "cell_type": "markdown",
   "id": "50e2eb77-83b3-4e55-8cb1-e7385dc34bd2",
   "metadata": {},
   "source": [
    "$$ C_2 = \\frac{4L}{2^2\\pi^2}\\sin{(\\frac{\\pi}{2}2)} = 0 $$"
   ]
  },
  {
   "cell_type": "markdown",
   "id": "5bccbe6a-59aa-4a64-9424-923697e624bc",
   "metadata": {},
   "source": [
    "$$ C_3 = \\frac{4L}{3^2\\pi^2}\\sin{(\\frac{\\pi}{2}3)} = -\\frac{4L}{3^2\\pi^2}$$"
   ]
  },
  {
   "cell_type": "markdown",
   "id": "2d028f92-6667-4e9f-ab0d-725666a89c51",
   "metadata": {},
   "source": [
    "$$ C_4 = \\frac{4L}{4^2\\pi^2}\\sin{(\\frac{\\pi}{2}4)} = 0$$"
   ]
  },
  {
   "cell_type": "markdown",
   "id": "add2692c-099b-4fb4-9889-4f45bdfdd92b",
   "metadata": {},
   "source": [
    "Pelo padrão, percebemos que a sequência será alternada nos $n$ ímpares e nula para $n$ par. Assim:"
   ]
  },
  {
   "cell_type": "markdown",
   "id": "50faca2a-101e-477e-83bf-eeec89fb3747",
   "metadata": {},
   "source": [
    "$$ C_n  = \n",
    "\\begin{cases} \n",
    "    \\frac{4}{n^2\\pi^2} (-1)^{\\frac{n-1}{2}}, & \\text{se n for ímpar} \\\\\n",
    "    0, & \\text{se n for par}  \n",
    "\\end{cases}$$"
   ]
  },
  {
   "cell_type": "markdown",
   "id": "c1fc5e89-b0ce-4422-b5c4-d2efa392a399",
   "metadata": {},
   "source": []
  },
  {
   "cell_type": "markdown",
   "id": "82dd1be6-7914-4977-a5ed-445ecdaa5383",
   "metadata": {},
   "source": []
  },
  {
   "cell_type": "markdown",
   "id": "35f78fa6-f5e8-45fc-a2af-3bba05aa08f0",
   "metadata": {},
   "source": []
  }
 ],
 "metadata": {
  "kernelspec": {
   "display_name": "Python 3 (ipykernel)",
   "language": "python",
   "name": "python3"
  },
  "language_info": {
   "codemirror_mode": {
    "name": "ipython",
    "version": 3
   },
   "file_extension": ".py",
   "mimetype": "text/x-python",
   "name": "python",
   "nbconvert_exporter": "python",
   "pygments_lexer": "ipython3",
   "version": "3.12.7"
  }
 },
 "nbformat": 4,
 "nbformat_minor": 5
}
